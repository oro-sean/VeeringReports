{
 "cells": [
  {
   "cell_type": "code",
   "execution_count": 1,
   "id": "529d6433",
   "metadata": {
    "pycharm": {
     "name": "#%%\n"
    }
   },
   "outputs": [],
   "source": [
    "# Define path the folder and phase excel file from RRP\n",
    "directory = '/mnt/home/9.0 Data Jobs/220412-IB_coffs/' # job folder\n",
    "race_phase='TestingPhases__IchiBanIRC52_20220408.xlsx' # phase report\n",
    "historic_phase='HistoricData.xlsx' # phase report\n",
    "race_headerRow = 6 # row number of first phase in phase report\n",
    "historic_headerRow = 1 # row nuber of first phase in historic phase report"
   ]
  },
  {
   "cell_type": "code",
   "execution_count": 2,
   "id": "db02d2d4",
   "metadata": {
    "pycharm": {
     "name": "#%%\n"
    }
   },
   "outputs": [
    {
     "name": "stderr",
     "output_type": "stream",
     "text": [
      "/tmp/ipykernel_27615/2774536733.py:19: FutureWarning: The `inplace` parameter in pandas.Categorical.remove_categories is deprecated and will be removed in a future version. Removing unused categories will always return a new Categorical object.\n",
      "  phases_in[var].cat.remove_categories(drop, inplace = True)\n",
      "/tmp/ipykernel_27615/2774536733.py:19: FutureWarning: The `inplace` parameter in pandas.Categorical.remove_categories is deprecated and will be removed in a future version. Removing unused categories will always return a new Categorical object.\n",
      "  phases_in[var].cat.remove_categories(drop, inplace = True)\n",
      "/tmp/ipykernel_27615/2774536733.py:19: FutureWarning: The `inplace` parameter in pandas.Categorical.remove_categories is deprecated and will be removed in a future version. Removing unused categories will always return a new Categorical object.\n",
      "  phases_in[var].cat.remove_categories(drop, inplace = True)\n",
      "/tmp/ipykernel_27615/2774536733.py:19: FutureWarning: The `inplace` parameter in pandas.Categorical.remove_categories is deprecated and will be removed in a future version. Removing unused categories will always return a new Categorical object.\n",
      "  phases_in[var].cat.remove_categories(drop, inplace = True)\n"
     ]
    }
   ],
   "source": [
    "import pandas as pd\n",
    "import seaborn as sns\n",
    "import matplotlib.pyplot as plt\n",
    "from scipy import stats\n",
    "\n",
    "# import using read_excel, using headercolumn as columnnames\n",
    "phases_in = pd.read_excel(directory+race_phase, header=race_headerRow-1) \n",
    "phases_in = phases_in.dropna(subset=['StartTime']) # remove excess rows\n",
    "hist_in = pd.read_excel(directory+historic_phase, header=historic_headerRow-1) \n",
    "hist_in = hist_in.dropna(subset=['StartTime']) # remove excess rows\n",
    "\n",
    "# set categorical variable types\n",
    "categoricalVariables = ['WaterBallast', 'SeaState', 'Sails', 'DayNight']\n",
    "for var in categoricalVariables:\n",
    "    phases_in[var] = phases_in[var].astype('category')\n",
    "    catCount = phases_in.groupby(var).size()\n",
    "    catCount = catCount/sum(catCount)\n",
    "    drop = catCount[catCount < 0.01].index\n",
    "    phases_in[var].cat.remove_categories(drop, inplace = True)\n",
    "\n",
    "    "
   ]
  },
  {
   "cell_type": "code",
   "execution_count": 3,
   "id": "fad5e4ab",
   "metadata": {
    "pycharm": {
     "name": "#%%\n"
    }
   },
   "outputs": [
    {
     "data": {
      "text/html": [
       "<div>\n",
       "<style scoped>\n",
       "    .dataframe tbody tr th:only-of-type {\n",
       "        vertical-align: middle;\n",
       "    }\n",
       "\n",
       "    .dataframe tbody tr th {\n",
       "        vertical-align: top;\n",
       "    }\n",
       "\n",
       "    .dataframe thead th {\n",
       "        text-align: right;\n",
       "    }\n",
       "</style>\n",
       "<table border=\"1\" class=\"dataframe\">\n",
       "  <thead>\n",
       "    <tr style=\"text-align: right;\">\n",
       "      <th></th>\n",
       "      <th>Sails</th>\n",
       "      <th>TwsBin</th>\n",
       "      <th>TwaBin</th>\n",
       "      <th>WaterBallast</th>\n",
       "      <th>BSP</th>\n",
       "      <th>BSPpol%</th>\n",
       "      <th>HEEL</th>\n",
       "      <th>SeaState</th>\n",
       "    </tr>\n",
       "  </thead>\n",
       "  <tbody>\n",
       "    <tr>\n",
       "      <th>241</th>\n",
       "      <td>OM-B/R2-A/J25-C/GS-E</td>\n",
       "      <td>12</td>\n",
       "      <td>100</td>\n",
       "      <td>Full</td>\n",
       "      <td>11.82</td>\n",
       "      <td>97.3</td>\n",
       "      <td>-15.4</td>\n",
       "      <td>Rougher</td>\n",
       "    </tr>\n",
       "    <tr>\n",
       "      <th>242</th>\n",
       "      <td>OM-B/R2-A/J25-C/GS-E</td>\n",
       "      <td>12</td>\n",
       "      <td>100</td>\n",
       "      <td>Full</td>\n",
       "      <td>11.52</td>\n",
       "      <td>95.7</td>\n",
       "      <td>-14.3</td>\n",
       "      <td>Rougher</td>\n",
       "    </tr>\n",
       "    <tr>\n",
       "      <th>251</th>\n",
       "      <td>OM-B/R2-A/J25-C/GS-E</td>\n",
       "      <td>12</td>\n",
       "      <td>100</td>\n",
       "      <td>Full</td>\n",
       "      <td>11.49</td>\n",
       "      <td>98.3</td>\n",
       "      <td>-13.9</td>\n",
       "      <td>Rougher</td>\n",
       "    </tr>\n",
       "    <tr>\n",
       "      <th>252</th>\n",
       "      <td>OM-B/R2-A/J25-C/GS-E</td>\n",
       "      <td>12</td>\n",
       "      <td>100</td>\n",
       "      <td>Full</td>\n",
       "      <td>11.39</td>\n",
       "      <td>97.8</td>\n",
       "      <td>-16.3</td>\n",
       "      <td>Rougher</td>\n",
       "    </tr>\n",
       "    <tr>\n",
       "      <th>253</th>\n",
       "      <td>OM-B/R2-A/J25-C/GS-E</td>\n",
       "      <td>12</td>\n",
       "      <td>100</td>\n",
       "      <td>Empty</td>\n",
       "      <td>11.82</td>\n",
       "      <td>99.9</td>\n",
       "      <td>-17.1</td>\n",
       "      <td>Rougher</td>\n",
       "    </tr>\n",
       "    <tr>\n",
       "      <th>...</th>\n",
       "      <td>...</td>\n",
       "      <td>...</td>\n",
       "      <td>...</td>\n",
       "      <td>...</td>\n",
       "      <td>...</td>\n",
       "      <td>...</td>\n",
       "      <td>...</td>\n",
       "      <td>...</td>\n",
       "    </tr>\n",
       "    <tr>\n",
       "      <th>1303</th>\n",
       "      <td>OM-B/R2-A/J25-C/GS-E</td>\n",
       "      <td>20</td>\n",
       "      <td>130</td>\n",
       "      <td>Empty</td>\n",
       "      <td>14.34</td>\n",
       "      <td>82.9</td>\n",
       "      <td>-14</td>\n",
       "      <td>Rougher</td>\n",
       "    </tr>\n",
       "    <tr>\n",
       "      <th>1304</th>\n",
       "      <td>OM-B/R2-A/J25-C/GS-E</td>\n",
       "      <td>20</td>\n",
       "      <td>130</td>\n",
       "      <td>Empty</td>\n",
       "      <td>19.04</td>\n",
       "      <td>107.7</td>\n",
       "      <td>-14.6</td>\n",
       "      <td>Rougher</td>\n",
       "    </tr>\n",
       "    <tr>\n",
       "      <th>1305</th>\n",
       "      <td>OM-B/R2-A/J25-C/GS-E</td>\n",
       "      <td>20</td>\n",
       "      <td>140</td>\n",
       "      <td>Empty</td>\n",
       "      <td>17.94</td>\n",
       "      <td>103</td>\n",
       "      <td>-14.6</td>\n",
       "      <td>Rougher</td>\n",
       "    </tr>\n",
       "    <tr>\n",
       "      <th>1508</th>\n",
       "      <td>OM-B/R2-A/J25-C/GS-E</td>\n",
       "      <td>22</td>\n",
       "      <td>110</td>\n",
       "      <td>Empty</td>\n",
       "      <td>17.68</td>\n",
       "      <td>106.3</td>\n",
       "      <td>-20.7</td>\n",
       "      <td>Rougher</td>\n",
       "    </tr>\n",
       "    <tr>\n",
       "      <th>1512</th>\n",
       "      <td>OM-B/R2-A/J25-C/GS-E</td>\n",
       "      <td>22</td>\n",
       "      <td>130</td>\n",
       "      <td>Empty</td>\n",
       "      <td>17.5</td>\n",
       "      <td>95.7</td>\n",
       "      <td>-25.7</td>\n",
       "      <td>Rougher</td>\n",
       "    </tr>\n",
       "  </tbody>\n",
       "</table>\n",
       "<p>157 rows × 8 columns</p>\n",
       "</div>"
      ],
      "text/plain": [
       "                     Sails TwsBin TwaBin WaterBallast    BSP BSPpol%  HEEL  \\\n",
       "241   OM-B/R2-A/J25-C/GS-E     12    100         Full  11.82    97.3 -15.4   \n",
       "242   OM-B/R2-A/J25-C/GS-E     12    100         Full  11.52    95.7 -14.3   \n",
       "251   OM-B/R2-A/J25-C/GS-E     12    100         Full  11.49    98.3 -13.9   \n",
       "252   OM-B/R2-A/J25-C/GS-E     12    100         Full  11.39    97.8 -16.3   \n",
       "253   OM-B/R2-A/J25-C/GS-E     12    100        Empty  11.82    99.9 -17.1   \n",
       "...                    ...    ...    ...          ...    ...     ...   ...   \n",
       "1303  OM-B/R2-A/J25-C/GS-E     20    130        Empty  14.34    82.9   -14   \n",
       "1304  OM-B/R2-A/J25-C/GS-E     20    130        Empty  19.04   107.7 -14.6   \n",
       "1305  OM-B/R2-A/J25-C/GS-E     20    140        Empty  17.94     103 -14.6   \n",
       "1508  OM-B/R2-A/J25-C/GS-E     22    110        Empty  17.68   106.3 -20.7   \n",
       "1512  OM-B/R2-A/J25-C/GS-E     22    130        Empty   17.5    95.7 -25.7   \n",
       "\n",
       "     SeaState  \n",
       "241   Rougher  \n",
       "242   Rougher  \n",
       "251   Rougher  \n",
       "252   Rougher  \n",
       "253   Rougher  \n",
       "...       ...  \n",
       "1303  Rougher  \n",
       "1304  Rougher  \n",
       "1305  Rougher  \n",
       "1508  Rougher  \n",
       "1512  Rougher  \n",
       "\n",
       "[157 rows x 8 columns]"
      ]
     },
     "execution_count": 3,
     "metadata": {},
     "output_type": "execute_result"
    }
   ],
   "source": [
    "## build data frame to\n",
    "comp_df = phases_in[phases_in.Sails == 'OM-B/R2-A/J25-C/GS-E']\n",
    "comp_df = comp_df[['Sails', 'TwsBin', 'TwaBin', 'WaterBallast','BSP', 'BSPpol%', 'HEEL', 'SeaState' ]]\n",
    "comp_df"
   ]
  },
  {
   "cell_type": "code",
   "execution_count": 4,
   "id": "cc7784db",
   "metadata": {
    "pycharm": {
     "name": "#%%\n"
    }
   },
   "outputs": [
    {
     "data": {
      "text/html": [
       "<div>\n",
       "<style scoped>\n",
       "    .dataframe tbody tr th:only-of-type {\n",
       "        vertical-align: middle;\n",
       "    }\n",
       "\n",
       "    .dataframe tbody tr th {\n",
       "        vertical-align: top;\n",
       "    }\n",
       "\n",
       "    .dataframe thead th {\n",
       "        text-align: right;\n",
       "    }\n",
       "</style>\n",
       "<table border=\"1\" class=\"dataframe\">\n",
       "  <thead>\n",
       "    <tr style=\"text-align: right;\">\n",
       "      <th></th>\n",
       "      <th>Sails</th>\n",
       "      <th>TwsBin</th>\n",
       "      <th>TwaBin</th>\n",
       "      <th>waterBallast</th>\n",
       "      <th>BSP</th>\n",
       "      <th>BSPpol%</th>\n",
       "      <th>HEEL</th>\n",
       "      <th>SeaState</th>\n",
       "    </tr>\n",
       "  </thead>\n",
       "  <tbody>\n",
       "    <tr>\n",
       "      <th>0</th>\n",
       "      <td>FR0-B</td>\n",
       "      <td>5</td>\n",
       "      <td>90</td>\n",
       "      <td>NotSet</td>\n",
       "      <td>5.65</td>\n",
       "      <td>80.7</td>\n",
       "      <td>5.3</td>\n",
       "      <td>NotSet</td>\n",
       "    </tr>\n",
       "    <tr>\n",
       "      <th>1</th>\n",
       "      <td>FR0-B</td>\n",
       "      <td>5</td>\n",
       "      <td>90</td>\n",
       "      <td>NotSet</td>\n",
       "      <td>5.97</td>\n",
       "      <td>85.8</td>\n",
       "      <td>5.4</td>\n",
       "      <td>NotSet</td>\n",
       "    </tr>\n",
       "    <tr>\n",
       "      <th>2</th>\n",
       "      <td>FR0-B</td>\n",
       "      <td>5</td>\n",
       "      <td>100</td>\n",
       "      <td>NotSet</td>\n",
       "      <td>6.25</td>\n",
       "      <td>84.9</td>\n",
       "      <td>6.4</td>\n",
       "      <td>NotSet</td>\n",
       "    </tr>\n",
       "    <tr>\n",
       "      <th>3</th>\n",
       "      <td>FR0-B</td>\n",
       "      <td>5</td>\n",
       "      <td>90</td>\n",
       "      <td>NotSet</td>\n",
       "      <td>6.22</td>\n",
       "      <td>84.4</td>\n",
       "      <td>6.5</td>\n",
       "      <td>NotSet</td>\n",
       "    </tr>\n",
       "    <tr>\n",
       "      <th>4</th>\n",
       "      <td>FR0-B</td>\n",
       "      <td>5</td>\n",
       "      <td>100</td>\n",
       "      <td>NotSet</td>\n",
       "      <td>6.21</td>\n",
       "      <td>83.4</td>\n",
       "      <td>7.6</td>\n",
       "      <td>NotSet</td>\n",
       "    </tr>\n",
       "    <tr>\n",
       "      <th>...</th>\n",
       "      <td>...</td>\n",
       "      <td>...</td>\n",
       "      <td>...</td>\n",
       "      <td>...</td>\n",
       "      <td>...</td>\n",
       "      <td>...</td>\n",
       "      <td>...</td>\n",
       "      <td>...</td>\n",
       "    </tr>\n",
       "    <tr>\n",
       "      <th>849</th>\n",
       "      <td>FR0-A</td>\n",
       "      <td>26</td>\n",
       "      <td>130</td>\n",
       "      <td>NotSet</td>\n",
       "      <td>17.38</td>\n",
       "      <td>86.0</td>\n",
       "      <td>13.1</td>\n",
       "      <td>NotSet</td>\n",
       "    </tr>\n",
       "    <tr>\n",
       "      <th>850</th>\n",
       "      <td>FR0-A</td>\n",
       "      <td>26</td>\n",
       "      <td>130</td>\n",
       "      <td>NotSet</td>\n",
       "      <td>17.51</td>\n",
       "      <td>85.8</td>\n",
       "      <td>15.3</td>\n",
       "      <td>NotSet</td>\n",
       "    </tr>\n",
       "    <tr>\n",
       "      <th>851</th>\n",
       "      <td>FR0-B</td>\n",
       "      <td>26</td>\n",
       "      <td>130</td>\n",
       "      <td>NotSet</td>\n",
       "      <td>19.80</td>\n",
       "      <td>100.7</td>\n",
       "      <td>19.1</td>\n",
       "      <td>Rough</td>\n",
       "    </tr>\n",
       "    <tr>\n",
       "      <th>852</th>\n",
       "      <td>FR0-A</td>\n",
       "      <td>26</td>\n",
       "      <td>120</td>\n",
       "      <td>NotSet</td>\n",
       "      <td>18.52</td>\n",
       "      <td>96.1</td>\n",
       "      <td>19.0</td>\n",
       "      <td>NotSet</td>\n",
       "    </tr>\n",
       "    <tr>\n",
       "      <th>853</th>\n",
       "      <td>FR0-A</td>\n",
       "      <td>26</td>\n",
       "      <td>140</td>\n",
       "      <td>NotSet</td>\n",
       "      <td>19.86</td>\n",
       "      <td>94.9</td>\n",
       "      <td>12.7</td>\n",
       "      <td>NotSet</td>\n",
       "    </tr>\n",
       "  </tbody>\n",
       "</table>\n",
       "<p>854 rows × 8 columns</p>\n",
       "</div>"
      ],
      "text/plain": [
       "     Sails  TwsBin  TwaBin waterBallast    BSP  BSPpol%  HEEL SeaState\n",
       "0    FR0-B       5      90       NotSet   5.65     80.7   5.3   NotSet\n",
       "1    FR0-B       5      90       NotSet   5.97     85.8   5.4   NotSet\n",
       "2    FR0-B       5     100       NotSet   6.25     84.9   6.4   NotSet\n",
       "3    FR0-B       5      90       NotSet   6.22     84.4   6.5   NotSet\n",
       "4    FR0-B       5     100       NotSet   6.21     83.4   7.6   NotSet\n",
       "..     ...     ...     ...          ...    ...      ...   ...      ...\n",
       "849  FR0-A      26     130       NotSet  17.38     86.0  13.1   NotSet\n",
       "850  FR0-A      26     130       NotSet  17.51     85.8  15.3   NotSet\n",
       "851  FR0-B      26     130       NotSet  19.80    100.7  19.1    Rough\n",
       "852  FR0-A      26     120       NotSet  18.52     96.1  19.0   NotSet\n",
       "853  FR0-A      26     140       NotSet  19.86     94.9  12.7   NotSet\n",
       "\n",
       "[854 rows x 8 columns]"
      ]
     },
     "execution_count": 4,
     "metadata": {},
     "output_type": "execute_result"
    }
   ],
   "source": [
    "hist_in = hist_in[['Sails', 'TWS_Bin', 'TWA_Bin', 'WaterBallast','BSP', 'Pol%', 'AHEEL', 'SeaState' ]]\n",
    "hist_in.rename(columns={'Sails': 'Sails', 'TWS_Bin': 'TwsBin', 'TWA_Bin': 'TwaBin', \n",
    "                        'WaterBallast': 'waterBallast', 'Pol%': 'BSPpol%', 'AHEEL':'HEEL'}, inplace=True)\n",
    "hist_in"
   ]
  },
  {
   "cell_type": "code",
   "execution_count": 5,
   "id": "676ed966",
   "metadata": {
    "pycharm": {
     "name": "#%%\n"
    }
   },
   "outputs": [],
   "source": [
    "comp_df = pd.concat([comp_df, hist_in], ignore_index=True)"
   ]
  },
  {
   "cell_type": "code",
   "execution_count": 6,
   "id": "d121aa08",
   "metadata": {
    "pycharm": {
     "name": "#%%\n"
    }
   },
   "outputs": [],
   "source": [
    "comp_df['HEEL'] = abs(comp_df.HEEL)\n",
    "comp_df['Sails'].replace({'OM-B/R2-A/J25-C/GS-E': 'R2', \n",
    "                          'FR0-B': 'FR0', 'FR0-A' : 'FR0', 'FR0-B/1 reef': 'FR0'}, \n",
    "                         inplace=True)\n",
    "\n"
   ]
  },
  {
   "cell_type": "code",
   "execution_count": 7,
   "id": "942341c0",
   "metadata": {
    "pycharm": {
     "name": "#%%\n"
    }
   },
   "outputs": [],
   "source": [
    "comp_df = comp_df[comp_df['BSPpol%']< 120]"
   ]
  },
  {
   "cell_type": "code",
   "execution_count": 8,
   "id": "9d60d806",
   "metadata": {
    "pycharm": {
     "name": "#%%\n"
    }
   },
   "outputs": [
    {
     "data": {
      "text/plain": [
       "<Figure size 415x360 with 0 Axes>"
      ]
     },
     "metadata": {},
     "output_type": "display_data"
    }
   ],
   "source": [
    "allDist = sns.displot(comp_df, x='BSPpol%', kind='kde', hue='Sails')\n",
    "allDist.set(title = \"Distribution of Polar BSP % for FR0 and R2\")\n",
    "sns.despine\n",
    "plt.savefig('allDist.png', bbox_inches='tight') # save plot\n",
    "plt.clf() # close plot figure so it is not over plotted"
   ]
  },
  {
   "cell_type": "code",
   "execution_count": 9,
   "id": "f0614fb6",
   "metadata": {
    "pycharm": {
     "name": "#%%\n"
    }
   },
   "outputs": [
    {
     "data": {
      "text/plain": [
       "<Figure size 360x360 with 0 Axes>"
      ]
     },
     "metadata": {},
     "output_type": "display_data"
    }
   ],
   "source": [
    "binPlt = sns.catplot(x='Sails', kind='count', data=comp_df)\n",
    "binPlt.set(title = \"Bin Count for R2 and FR0 phases\")\n",
    "sns.despine\n",
    "plt.savefig('BinCount.png', bbox_inches='tight') # save plot\n",
    "plt.clf() # close plot figure so it is not over plotted"
   ]
  },
  {
   "cell_type": "code",
   "execution_count": 10,
   "id": "f2c9a927",
   "metadata": {
    "pycharm": {
     "name": "#%%\n"
    }
   },
   "outputs": [
    {
     "data": {
      "text/plain": [
       "<Figure size 415x360 with 0 Axes>"
      ]
     },
     "metadata": {},
     "output_type": "display_data"
    }
   ],
   "source": [
    "twsBin = sns.catplot(y='TwsBin', hue='Sails', kind='count', data=comp_df)\n",
    "twsBin.set(title = \"Bin Count for R2 and FR0 phases by TWS\")\n",
    "sns.despine\n",
    "plt.savefig('twsBinCount.png', bbox_inches='tight') # save plot\n",
    "plt.clf() # close plot figure so it is not over plotted"
   ]
  },
  {
   "cell_type": "code",
   "execution_count": 11,
   "id": "761e6bf2",
   "metadata": {
    "pycharm": {
     "name": "#%%\n"
    }
   },
   "outputs": [
    {
     "data": {
      "text/plain": [
       "<Figure size 415x360 with 0 Axes>"
      ]
     },
     "metadata": {},
     "output_type": "display_data"
    }
   ],
   "source": [
    "twaBin = sns.catplot(x='TwaBin', hue='Sails', kind='count', data=comp_df)\n",
    "twaBin.set(title = \"Bin Count for R2 and FR0 phases by TWA\")\n",
    "sns.despine\n",
    "plt.savefig('twaBinCount.png', bbox_inches='tight') # save plot\n",
    "plt.clf() # close plot figure so it is not over plotted"
   ]
  },
  {
   "cell_type": "code",
   "execution_count": 12,
   "id": "bdd58e82",
   "metadata": {
    "pycharm": {
     "name": "#%%\n"
    }
   },
   "outputs": [
    {
     "name": "stdout",
     "output_type": "stream",
     "text": [
      "blue96.50480656506446\n",
      "red98.90891719745228\n"
     ]
    },
    {
     "name": "stderr",
     "output_type": "stream",
     "text": [
      "/tmp/ipykernel_27615/3462466155.py:5: FutureWarning: Dropping invalid columns in DataFrameGroupBy.mean is deprecated. In a future version, a TypeError will be raised. Before calling .mean, select only columns which should be valid for the function.\n",
      "  avg = comp_df.groupby(['Sails']).mean()['BSPpol%']\n"
     ]
    },
    {
     "data": {
      "text/plain": [
       "<Figure size 415x360 with 0 Axes>"
      ]
     },
     "metadata": {},
     "output_type": "display_data"
    }
   ],
   "source": [
    "\n",
    "fr0_BSPpol = comp_df[comp_df.Sails == 'FR0']\n",
    "r2_BSPpol = comp_df[comp_df.Sails == 'R2']\n",
    "tTest = stats.ttest_ind(fr0_BSPpol['BSPpol%'], r2_BSPpol['BSPpol%'])\n",
    "test_plot = sns.displot(comp_df, x='BSPpol%', hue='Sails', kind='kde', palette = ['red','blue'] )\n",
    "avg = comp_df.groupby(['Sails']).mean()['BSPpol%']\n",
    "plt.axvline(x=avg[0], color = 'blue')\n",
    "plt.axvline(x=avg[1], color = 'red')\n",
    "test_plot.set(title = 'R2 vs FR0 for all TWS and TWA, p-value= '+str(tTest[1])) # set title\n",
    "sns.despine\n",
    "plt.savefig('all_testPlot.png', bbox_inches='tight') # save plot\n",
    "plt.clf() # close plot figure so it is not over plotted\n",
    "print('blue'+str(avg[0]))\n",
    "print('red'+str(avg[1]))"
   ]
  },
  {
   "cell_type": "code",
   "execution_count": 164,
   "id": "b9be3fe0",
   "metadata": {
    "pycharm": {
     "name": "#%%\n"
    }
   },
   "outputs": [
    {
     "name": "stderr",
     "output_type": "stream",
     "text": [
      "/tmp/ipykernel_1904/3064111205.py:9: FutureWarning: Dropping invalid columns in DataFrameGroupBy.mean is deprecated. In a future version, a TypeError will be raised. Before calling .mean, select only columns which should be valid for the function.\n",
      "  avg = test_df.groupby(['Sails']).mean()['BSPpol%']\n",
      "/tmp/ipykernel_1904/3064111205.py:9: FutureWarning: Dropping invalid columns in DataFrameGroupBy.mean is deprecated. In a future version, a TypeError will be raised. Before calling .mean, select only columns which should be valid for the function.\n",
      "  avg = test_df.groupby(['Sails']).mean()['BSPpol%']\n",
      "/tmp/ipykernel_1904/3064111205.py:9: FutureWarning: Dropping invalid columns in DataFrameGroupBy.mean is deprecated. In a future version, a TypeError will be raised. Before calling .mean, select only columns which should be valid for the function.\n",
      "  avg = test_df.groupby(['Sails']).mean()['BSPpol%']\n",
      "/tmp/ipykernel_1904/3064111205.py:9: FutureWarning: Dropping invalid columns in DataFrameGroupBy.mean is deprecated. In a future version, a TypeError will be raised. Before calling .mean, select only columns which should be valid for the function.\n",
      "  avg = test_df.groupby(['Sails']).mean()['BSPpol%']\n"
     ]
    },
    {
     "data": {
      "text/plain": [
       "<Figure size 415x360 with 0 Axes>"
      ]
     },
     "metadata": {},
     "output_type": "display_data"
    },
    {
     "data": {
      "text/plain": [
       "<Figure size 415x360 with 0 Axes>"
      ]
     },
     "metadata": {},
     "output_type": "display_data"
    },
    {
     "data": {
      "text/plain": [
       "<Figure size 415x360 with 0 Axes>"
      ]
     },
     "metadata": {},
     "output_type": "display_data"
    },
    {
     "data": {
      "text/plain": [
       "<Figure size 415x360 with 0 Axes>"
      ]
     },
     "metadata": {},
     "output_type": "display_data"
    }
   ],
   "source": [
    "for twa in [100,110,120,130]:\n",
    "    try:\n",
    "        test_df = comp_df\n",
    "        test_df = test_df[test_df.TwaBin == twa]\n",
    "        fr0_BSPpol = test_df[test_df.Sails == 'FR0']\n",
    "        r2_BSPpol = test_df[test_df.Sails == 'R2']\n",
    "        tTest = stats.ttest_ind(fr0_BSPpol['BSPpol%'], r2_BSPpol['BSPpol%'])\n",
    "        test_plot = sns.displot(test_df, x='BSPpol%', hue='Sails', kind='kde', palette = ['red','blue'] )\n",
    "        avg = test_df.groupby(['Sails']).mean()['BSPpol%']\n",
    "        plt.axvline(x=avg[0], color = 'blue')\n",
    "        plt.axvline(x=avg[1], color = 'red')\n",
    "        test_plot.set(title = 'TWA='+str(twa)+' For all TWS, p-value='+str(tTest[1])) # set title\n",
    "        sns.despine\n",
    "        plt.savefig(str(twa)+'_'+'allTWS_testPlot.png', bbox_inches='tight') # save plot\n",
    "        plt.clf() # close plot figure so it is not over plotted\n",
    "    except:\n",
    "        print(twa)"
   ]
  },
  {
   "cell_type": "code",
   "execution_count": 177,
   "id": "408267ae",
   "metadata": {
    "pycharm": {
     "name": "#%%\n"
    }
   },
   "outputs": [
    {
     "name": "stderr",
     "output_type": "stream",
     "text": [
      "/tmp/ipykernel_1904/1405187093.py:9: FutureWarning: Dropping invalid columns in DataFrameGroupBy.mean is deprecated. In a future version, a TypeError will be raised. Before calling .mean, select only columns which should be valid for the function.\n",
      "  avg = test_df.groupby(['Sails']).mean()['BSPpol%']\n",
      "/tmp/ipykernel_1904/1405187093.py:9: FutureWarning: Dropping invalid columns in DataFrameGroupBy.mean is deprecated. In a future version, a TypeError will be raised. Before calling .mean, select only columns which should be valid for the function.\n",
      "  avg = test_df.groupby(['Sails']).mean()['BSPpol%']\n",
      "/tmp/ipykernel_1904/1405187093.py:9: FutureWarning: Dropping invalid columns in DataFrameGroupBy.mean is deprecated. In a future version, a TypeError will be raised. Before calling .mean, select only columns which should be valid for the function.\n",
      "  avg = test_df.groupby(['Sails']).mean()['BSPpol%']\n",
      "/tmp/ipykernel_1904/1405187093.py:9: FutureWarning: Dropping invalid columns in DataFrameGroupBy.mean is deprecated. In a future version, a TypeError will be raised. Before calling .mean, select only columns which should be valid for the function.\n",
      "  avg = test_df.groupby(['Sails']).mean()['BSPpol%']\n",
      "/tmp/ipykernel_1904/1405187093.py:9: FutureWarning: Dropping invalid columns in DataFrameGroupBy.mean is deprecated. In a future version, a TypeError will be raised. Before calling .mean, select only columns which should be valid for the function.\n",
      "  avg = test_df.groupby(['Sails']).mean()['BSPpol%']\n"
     ]
    },
    {
     "data": {
      "text/plain": [
       "<Figure size 415x360 with 0 Axes>"
      ]
     },
     "metadata": {},
     "output_type": "display_data"
    },
    {
     "data": {
      "text/plain": [
       "<Figure size 415x360 with 0 Axes>"
      ]
     },
     "metadata": {},
     "output_type": "display_data"
    },
    {
     "data": {
      "text/plain": [
       "<Figure size 415x360 with 0 Axes>"
      ]
     },
     "metadata": {},
     "output_type": "display_data"
    },
    {
     "data": {
      "text/plain": [
       "<Figure size 415x360 with 0 Axes>"
      ]
     },
     "metadata": {},
     "output_type": "display_data"
    },
    {
     "data": {
      "text/plain": [
       "<Figure size 415x360 with 0 Axes>"
      ]
     },
     "metadata": {},
     "output_type": "display_data"
    }
   ],
   "source": [
    "for tws in [12,14,16,18,20]:\n",
    "    try:\n",
    "        test_df = comp_df\n",
    "        test_df = test_df[test_df.TwsBin == tws]\n",
    "        fr0_BSPpol = test_df[test_df.Sails == 'FR0']\n",
    "        r2_BSPpol = test_df[test_df.Sails == 'R2']\n",
    "        tTest = stats.ttest_ind(fr0_BSPpol['BSPpol%'], r2_BSPpol['BSPpol%'])\n",
    "        test_plot = sns.displot(test_df, x='BSPpol%', hue='Sails', kind='kde', palette = ['red','blue'] )\n",
    "        avg = test_df.groupby(['Sails']).mean()['BSPpol%']\n",
    "        plt.axvline(x=avg[0], color = 'blue')\n",
    "        plt.axvline(x=avg[1], color = 'red')\n",
    "        test_plot.set(title = ' TWS='+str(tws)+ ' For all TWA, p-value='+str(tTest[1])) # set title\n",
    "        sns.despine\n",
    "        plt.savefig(str(tws)+'_'+'allTWA_testPlot.png', bbox_inches='tight') # save plot\n",
    "        plt.clf() # close plot figure so it is not over plotted\n",
    "    except:\n",
    "        print(twa)"
   ]
  },
  {
   "cell_type": "code",
   "execution_count": 178,
   "id": "d48b941e",
   "metadata": {
    "pycharm": {
     "name": "#%%\n"
    }
   },
   "outputs": [
    {
     "name": "stderr",
     "output_type": "stream",
     "text": [
      "/tmp/ipykernel_1904/179405770.py:9: FutureWarning: Dropping invalid columns in DataFrameGroupBy.mean is deprecated. In a future version, a TypeError will be raised. Before calling .mean, select only columns which should be valid for the function.\n",
      "  avg = test_df.groupby(['Sails']).mean()['BSPpol%']\n",
      "/tmp/ipykernel_1904/179405770.py:9: FutureWarning: Dropping invalid columns in DataFrameGroupBy.mean is deprecated. In a future version, a TypeError will be raised. Before calling .mean, select only columns which should be valid for the function.\n",
      "  avg = test_df.groupby(['Sails']).mean()['BSPpol%']\n"
     ]
    },
    {
     "name": "stdout",
     "output_type": "stream",
     "text": [
      "TWA 100 TWS 16\n",
      "TWA 100 TWS 18\n",
      "TWA 100 TWS 20\n"
     ]
    },
    {
     "name": "stderr",
     "output_type": "stream",
     "text": [
      "/tmp/ipykernel_1904/179405770.py:9: FutureWarning: Dropping invalid columns in DataFrameGroupBy.mean is deprecated. In a future version, a TypeError will be raised. Before calling .mean, select only columns which should be valid for the function.\n",
      "  avg = test_df.groupby(['Sails']).mean()['BSPpol%']\n",
      "/tmp/ipykernel_1904/179405770.py:9: FutureWarning: Dropping invalid columns in DataFrameGroupBy.mean is deprecated. In a future version, a TypeError will be raised. Before calling .mean, select only columns which should be valid for the function.\n",
      "  avg = test_df.groupby(['Sails']).mean()['BSPpol%']\n",
      "/tmp/ipykernel_1904/179405770.py:9: FutureWarning: Dropping invalid columns in DataFrameGroupBy.mean is deprecated. In a future version, a TypeError will be raised. Before calling .mean, select only columns which should be valid for the function.\n",
      "  avg = test_df.groupby(['Sails']).mean()['BSPpol%']\n",
      "/tmp/ipykernel_1904/179405770.py:9: FutureWarning: Dropping invalid columns in DataFrameGroupBy.mean is deprecated. In a future version, a TypeError will be raised. Before calling .mean, select only columns which should be valid for the function.\n",
      "  avg = test_df.groupby(['Sails']).mean()['BSPpol%']\n",
      "/tmp/ipykernel_1904/179405770.py:9: FutureWarning: Dropping invalid columns in DataFrameGroupBy.mean is deprecated. In a future version, a TypeError will be raised. Before calling .mean, select only columns which should be valid for the function.\n",
      "  avg = test_df.groupby(['Sails']).mean()['BSPpol%']\n",
      "/home/veering/anaconda3/envs/veeringReports/lib/python3.10/site-packages/numpy/core/fromnumeric.py:3723: RuntimeWarning: Degrees of freedom <= 0 for slice\n",
      "  return _methods._var(a, axis=axis, dtype=dtype, out=out, ddof=ddof,\n",
      "/home/veering/anaconda3/envs/veeringReports/lib/python3.10/site-packages/numpy/core/_methods.py:256: RuntimeWarning: invalid value encountered in true_divide\n",
      "  ret = ret / rcount\n",
      "/home/veering/anaconda3/envs/veeringReports/lib/python3.10/site-packages/seaborn/distributions.py:316: UserWarning: Dataset has 0 variance; skipping density estimate. Pass `warn_singular=False` to disable this warning.\n",
      "  warnings.warn(msg, UserWarning)\n",
      "/tmp/ipykernel_1904/179405770.py:9: FutureWarning: Dropping invalid columns in DataFrameGroupBy.mean is deprecated. In a future version, a TypeError will be raised. Before calling .mean, select only columns which should be valid for the function.\n",
      "  avg = test_df.groupby(['Sails']).mean()['BSPpol%']\n",
      "/tmp/ipykernel_1904/179405770.py:9: FutureWarning: Dropping invalid columns in DataFrameGroupBy.mean is deprecated. In a future version, a TypeError will be raised. Before calling .mean, select only columns which should be valid for the function.\n",
      "  avg = test_df.groupby(['Sails']).mean()['BSPpol%']\n",
      "/tmp/ipykernel_1904/179405770.py:9: FutureWarning: Dropping invalid columns in DataFrameGroupBy.mean is deprecated. In a future version, a TypeError will be raised. Before calling .mean, select only columns which should be valid for the function.\n",
      "  avg = test_df.groupby(['Sails']).mean()['BSPpol%']\n",
      "/tmp/ipykernel_1904/179405770.py:9: FutureWarning: Dropping invalid columns in DataFrameGroupBy.mean is deprecated. In a future version, a TypeError will be raised. Before calling .mean, select only columns which should be valid for the function.\n",
      "  avg = test_df.groupby(['Sails']).mean()['BSPpol%']\n",
      "/home/veering/anaconda3/envs/veeringReports/lib/python3.10/site-packages/numpy/core/fromnumeric.py:3723: RuntimeWarning: Degrees of freedom <= 0 for slice\n",
      "  return _methods._var(a, axis=axis, dtype=dtype, out=out, ddof=ddof,\n",
      "/home/veering/anaconda3/envs/veeringReports/lib/python3.10/site-packages/numpy/core/_methods.py:256: RuntimeWarning: invalid value encountered in true_divide\n",
      "  ret = ret / rcount\n",
      "/home/veering/anaconda3/envs/veeringReports/lib/python3.10/site-packages/seaborn/distributions.py:316: UserWarning: Dataset has 0 variance; skipping density estimate. Pass `warn_singular=False` to disable this warning.\n",
      "  warnings.warn(msg, UserWarning)\n",
      "/tmp/ipykernel_1904/179405770.py:9: FutureWarning: Dropping invalid columns in DataFrameGroupBy.mean is deprecated. In a future version, a TypeError will be raised. Before calling .mean, select only columns which should be valid for the function.\n",
      "  avg = test_df.groupby(['Sails']).mean()['BSPpol%']\n",
      "/home/veering/anaconda3/envs/veeringReports/lib/python3.10/site-packages/numpy/core/fromnumeric.py:3723: RuntimeWarning: Degrees of freedom <= 0 for slice\n",
      "  return _methods._var(a, axis=axis, dtype=dtype, out=out, ddof=ddof,\n",
      "/home/veering/anaconda3/envs/veeringReports/lib/python3.10/site-packages/numpy/core/_methods.py:256: RuntimeWarning: invalid value encountered in true_divide\n",
      "  ret = ret / rcount\n",
      "/home/veering/anaconda3/envs/veeringReports/lib/python3.10/site-packages/seaborn/distributions.py:316: UserWarning: Dataset has 0 variance; skipping density estimate. Pass `warn_singular=False` to disable this warning.\n",
      "  warnings.warn(msg, UserWarning)\n"
     ]
    },
    {
     "name": "stdout",
     "output_type": "stream",
     "text": [
      "TWA 130 TWS 12\n"
     ]
    },
    {
     "name": "stderr",
     "output_type": "stream",
     "text": [
      "/tmp/ipykernel_1904/179405770.py:9: FutureWarning: Dropping invalid columns in DataFrameGroupBy.mean is deprecated. In a future version, a TypeError will be raised. Before calling .mean, select only columns which should be valid for the function.\n",
      "  avg = test_df.groupby(['Sails']).mean()['BSPpol%']\n",
      "/tmp/ipykernel_1904/179405770.py:9: FutureWarning: Dropping invalid columns in DataFrameGroupBy.mean is deprecated. In a future version, a TypeError will be raised. Before calling .mean, select only columns which should be valid for the function.\n",
      "  avg = test_df.groupby(['Sails']).mean()['BSPpol%']\n",
      "/home/veering/anaconda3/envs/veeringReports/lib/python3.10/site-packages/numpy/core/fromnumeric.py:3723: RuntimeWarning: Degrees of freedom <= 0 for slice\n",
      "  return _methods._var(a, axis=axis, dtype=dtype, out=out, ddof=ddof,\n",
      "/home/veering/anaconda3/envs/veeringReports/lib/python3.10/site-packages/numpy/core/_methods.py:256: RuntimeWarning: invalid value encountered in true_divide\n",
      "  ret = ret / rcount\n",
      "/home/veering/anaconda3/envs/veeringReports/lib/python3.10/site-packages/seaborn/distributions.py:316: UserWarning: Dataset has 0 variance; skipping density estimate. Pass `warn_singular=False` to disable this warning.\n",
      "  warnings.warn(msg, UserWarning)\n",
      "/tmp/ipykernel_1904/179405770.py:9: FutureWarning: Dropping invalid columns in DataFrameGroupBy.mean is deprecated. In a future version, a TypeError will be raised. Before calling .mean, select only columns which should be valid for the function.\n",
      "  avg = test_df.groupby(['Sails']).mean()['BSPpol%']\n",
      "/tmp/ipykernel_1904/179405770.py:9: FutureWarning: Dropping invalid columns in DataFrameGroupBy.mean is deprecated. In a future version, a TypeError will be raised. Before calling .mean, select only columns which should be valid for the function.\n",
      "  avg = test_df.groupby(['Sails']).mean()['BSPpol%']\n"
     ]
    },
    {
     "data": {
      "text/plain": [
       "<Figure size 415x360 with 0 Axes>"
      ]
     },
     "metadata": {},
     "output_type": "display_data"
    },
    {
     "data": {
      "text/plain": [
       "<Figure size 415x360 with 0 Axes>"
      ]
     },
     "metadata": {},
     "output_type": "display_data"
    },
    {
     "data": {
      "image/png": "[encoded data removed]",
      "text/plain": [
       "<Figure size 360x360 with 1 Axes>"
      ]
     },
     "metadata": {
      "needs_background": "light"
     },
     "output_type": "display_data"
    },
    {
     "data": {
      "text/plain": [
       "<Figure size 415x360 with 0 Axes>"
      ]
     },
     "metadata": {},
     "output_type": "display_data"
    },
    {
     "data": {
      "text/plain": [
       "<Figure size 415x360 with 0 Axes>"
      ]
     },
     "metadata": {},
     "output_type": "display_data"
    },
    {
     "data": {
      "text/plain": [
       "<Figure size 415x360 with 0 Axes>"
      ]
     },
     "metadata": {},
     "output_type": "display_data"
    },
    {
     "data": {
      "text/plain": [
       "<Figure size 415x360 with 0 Axes>"
      ]
     },
     "metadata": {},
     "output_type": "display_data"
    },
    {
     "data": {
      "text/plain": [
       "<Figure size 415x360 with 0 Axes>"
      ]
     },
     "metadata": {},
     "output_type": "display_data"
    },
    {
     "data": {
      "text/plain": [
       "<Figure size 415x360 with 0 Axes>"
      ]
     },
     "metadata": {},
     "output_type": "display_data"
    },
    {
     "data": {
      "text/plain": [
       "<Figure size 415x360 with 0 Axes>"
      ]
     },
     "metadata": {},
     "output_type": "display_data"
    },
    {
     "data": {
      "text/plain": [
       "<Figure size 415x360 with 0 Axes>"
      ]
     },
     "metadata": {},
     "output_type": "display_data"
    },
    {
     "data": {
      "text/plain": [
       "<Figure size 415x360 with 0 Axes>"
      ]
     },
     "metadata": {},
     "output_type": "display_data"
    },
    {
     "data": {
      "text/plain": [
       "<Figure size 415x360 with 0 Axes>"
      ]
     },
     "metadata": {},
     "output_type": "display_data"
    },
    {
     "data": {
      "text/plain": [
       "<Figure size 415x360 with 0 Axes>"
      ]
     },
     "metadata": {},
     "output_type": "display_data"
    },
    {
     "data": {
      "text/plain": [
       "<Figure size 415x360 with 0 Axes>"
      ]
     },
     "metadata": {},
     "output_type": "display_data"
    },
    {
     "data": {
      "text/plain": [
       "<Figure size 415x360 with 0 Axes>"
      ]
     },
     "metadata": {},
     "output_type": "display_data"
    },
    {
     "data": {
      "text/plain": [
       "<Figure size 415x360 with 0 Axes>"
      ]
     },
     "metadata": {},
     "output_type": "display_data"
    }
   ],
   "source": [
    "for twa in [100,110,120,130]:\n",
    "    for tws in [12, 14,16,18,20]:\n",
    "        try:\n",
    "            test_df = comp_df[(comp_df.TwaBin == twa) & (comp_df.TwsBin == tws)]\n",
    "            fr0_BSPpol = test_df[test_df.Sails == 'FR0']\n",
    "            r2_BSPpol = test_df[test_df.Sails == 'R2']\n",
    "            tTest = stats.ttest_ind(fr0_BSPpol['BSPpol%'], r2_BSPpol['BSPpol%'])\n",
    "            test_plot = sns.displot(test_df, x='BSPpol%', hue='Sails', kind='kde', palette = ['red','blue'] )\n",
    "            avg = test_df.groupby(['Sails']).mean()['BSPpol%']\n",
    "            plt.axvline(x=avg[0], color = 'blue')\n",
    "            plt.axvline(x=avg[1], color = 'red')\n",
    "            test_plot.set(title = 'TWA='+str(twa)+' TWS='+str(tws)+ ', p-value='+str(tTest[1])) # set title\n",
    "            sns.despine\n",
    "            plt.savefig(str(twa)+'_'+str(tws)+'_testPlot.png', bbox_inches='tight') # save plot\n",
    "            plt.clf() # close plot figure so it is not over plotted\n",
    "        except:\n",
    "            print(\"TWA \"+str(twa)+\" TWS \"+str(tws))"
   ]
  },
  {
   "cell_type": "code",
   "execution_count": null,
   "id": "33546ab3",
   "metadata": {
    "pycharm": {
     "name": "#%%\n"
    }
   },
   "outputs": [],
   "source": []
  }
 ],
 "metadata": {
  "kernelspec": {
   "display_name": "Python 3 (ipykernel)",
   "language": "python",
   "name": "python3"
  },
  "language_info": {
   "codemirror_mode": {
    "name": "ipython",
    "version": 3
   },
   "file_extension": ".py",
   "mimetype": "text/x-python",
   "name": "python",
   "nbconvert_exporter": "python",
   "pygments_lexer": "ipython3",
   "version": "3.10.0"
  }
 },
 "nbformat": 4,
 "nbformat_minor": 5
}
