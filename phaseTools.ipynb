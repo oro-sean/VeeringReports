{
 "cells": [
  {
   "cell_type": "code",
   "execution_count": 1,
   "id": "c06d8a56",
   "metadata": {},
   "outputs": [
    {
     "name": "stderr",
     "output_type": "stream",
     "text": [
      "/Users/sean/.conda/envs/veeringReporting/lib/python3.10/site-packages/scipy/__init__.py:146: UserWarning: A NumPy version >=1.16.5 and <1.23.0 is required for this version of SciPy (detected version 1.23.1\n",
      "  warnings.warn(f\"A NumPy version >={np_minversion} and <{np_maxversion}\"\n"
     ]
    }
   ],
   "source": [
    "# Import excel spreadsheet to pandas data frame\n",
    "import pandas as pd\n",
    "import seaborn as sns\n",
    "import matplotlib.pyplot as plt\n",
    "from scipy import stats\n",
    "import numpy as np\n",
    "import math"
   ]
  },
  {
   "cell_type": "code",
   "execution_count": 4,
   "id": "50ead935",
   "metadata": {},
   "outputs": [],
   "source": [
    "# Define path the folder and phase excel file from RRP\n",
    "directory = '/Users/sean/Documents/FJ_round2/'  # job folder\n",
    "file_phase='PhaseTableReport (1).xlsx' # phase report from RRP\n",
    "headerRow = 1 # row number of first phase in phase report"
   ]
  },
  {
   "cell_type": "code",
   "execution_count": 5,
   "id": "cc243a0e",
   "metadata": {},
   "outputs": [],
   "source": [
    "# import using read_excel, using headercolumn as columnnames\n",
    "phases_in = pd.read_excel(directory+file_phase, header=headerRow-1)\n",
    "phases_in = phases_in.dropna(subset=['StartTime']) # remove excess rows\n"
   ]
  },
  {
   "cell_type": "code",
   "execution_count": 6,
   "id": "37e6c52f",
   "metadata": {},
   "outputs": [
    {
     "data": {
      "text/plain": [
       "Index(['Type', 'Tack', 'StartTime', 'Duration', 'Sails', 'RaceLeg', 'Subject',\n",
       "       'Comments', 'Density', 'TWS', 'TWA', 'Perf', 'Pol%', 'Vmg%', 'TWS_Bin',\n",
       "       'TWA_Bin', 'BSP_Bin', 'Dist (Nm)', 'BSP', 'AHEEL', 'AWA', 'TRIM',\n",
       "       'Base Rake', 'Chock', 'D1', 'D2', 'HDG', 'Headstay', 'HEEL', 'V1',\n",
       "       'BSP_trg%', 'RUDDER', 'FORESTAY'],\n",
       "      dtype='object')"
      ]
     },
     "execution_count": 6,
     "metadata": {},
     "output_type": "execute_result"
    }
   ],
   "source": [
    "phases_in.columns"
   ]
  },
  {
   "cell_type": "code",
   "execution_count": 8,
   "id": "c843a327",
   "metadata": {},
   "outputs": [],
   "source": [
    "# set categorical variable types\n",
    "categoricalVariables = ['Sails','Tack', 'TWS_Bin', 'TWA_Bin','BSP_Bin', 'Headstay', 'V1', 'D1', 'D2', 'Base Rake', 'Chock']\n",
    "dropped = []\n",
    "for var in categoricalVariables: # iterate over all categorical variables\n",
    "    phases_in[var] = phases_in[var].astype('category') # change type to catagorical\n",
    "    catCount = phases_in.groupby(var).size() # find total number of each category\n",
    "    catCount = catCount/sum(catCount) # calculate category size as fraction of all observations\n",
    "    drop = catCount[catCount < 0.01].index # identify cases that represent less than 1%\n",
    "    phases_in[var] = phases_in[var].cat.remove_categories(drop) # drop cases which represent less than 1%\n",
    "    dropped.append(drop)\n",
    "## Print dropped catagories\n",
    "for i in range(len(dropped)): #iterate over each entry in dropped list\n",
    "    if len(dropped[i]) > 0: #check if any indecies are present\n",
    "        print(\"The following categories where dropped from \"+str(dropped[i].name)+\"\\n\")\n",
    "        for n in range(len(dropped[i])): # iterate over each dropped entry\n",
    "            print(str(dropped[i][n])) # print each dropped category\n"
   ]
  },
  {
   "cell_type": "code",
   "execution_count": 9,
   "id": "c07837bd",
   "metadata": {},
   "outputs": [
    {
     "name": "stdout",
     "output_type": "stream",
     "text": [
      "The variable Sails contains the following catagories\n",
      "A1.5-C\n",
      "A1.5-D\n",
      "A2-D\n",
      "J1-B\n",
      "J1.5-D\n",
      "J2.5-C\n",
      "-------------------------------- \n",
      "\n",
      "The variable Tack contains the following catagories\n",
      "Port/Dn\n",
      "Port/Rch\n",
      "Port/Up\n",
      "Stbd/Dn\n",
      "Stbd/Rch\n",
      "Stbd/Up\n",
      "-------------------------------- \n",
      "\n",
      "The variable TWS_Bin contains the following catagories\n",
      "6\n",
      "8\n",
      "10\n",
      "12\n",
      "14\n",
      "16\n",
      "18\n",
      "20\n",
      "-------------------------------- \n",
      "\n",
      "The variable TWA_Bin contains the following catagories\n",
      "35\n",
      "40\n",
      "45\n",
      "50\n",
      "55\n",
      "120\n",
      "130\n",
      "140\n",
      "150\n",
      "160\n",
      "170\n",
      "-------------------------------- \n",
      "\n",
      "The variable BSP_Bin contains the following catagories\n",
      "6.61\n",
      "6.69\n",
      "6.71\n",
      "6.91\n",
      "6.93\n",
      "-------------------------------- \n",
      "\n",
      "The variable Headstay contains the following catagories\n",
      "-12\n",
      "-8\n",
      "6\n",
      "-------------------------------- \n",
      "\n",
      "The variable V1 contains the following catagories\n",
      "-1.0\n",
      "0.5\n",
      "-------------------------------- \n",
      "\n",
      "The variable D1 contains the following catagories\n",
      "-3.0\n",
      "-2.0\n",
      "0.5\n",
      "-------------------------------- \n",
      "\n",
      "The variable D2 contains the following catagories\n",
      "-4\n",
      "-2\n",
      "0\n",
      "-------------------------------- \n",
      "\n",
      "The variable Base Rake contains the following catagories\n",
      "1710\n",
      "-------------------------------- \n",
      "\n",
      "The variable Chock contains the following catagories\n",
      "0\n",
      "-------------------------------- \n",
      "\n"
     ]
    }
   ],
   "source": [
    "## rename categories in categorical variables\n",
    "for var in categoricalVariables:\n",
    "    print(\"The variable \"+str(var)+\" contains the following catagories\")\n",
    "    for n in range(len(phases_in[var].cat.categories)):\n",
    "        print(phases_in[var].cat.categories[n])\n",
    "    print(\"-------------------------------- \\n\")\n",
    "### to be finished\n",
    "#renameDict = {'dayNight':['Night','Day']}\n",
    "#phases_in['DayNight'].cat.rename_categories(['Night', 'Day'], inplace=True) # change Daynight from 0/1 to night/Day"
   ]
  },
  {
   "cell_type": "code",
   "execution_count": 11,
   "id": "ace97c68",
   "metadata": {},
   "outputs": [],
   "source": [
    "## create custom bins\n",
    "phases_in['BspPolBin'] = pd.cut(phases_in['Pol%'], bins=[0, 90, 98, 105, 200], labels=['<90', '90 to 98', '98 to 105', '> 105'])\n",
    "phases_in['VmgPercBin'] = pd.cut(phases_in['Vmg%'], bins=[0, 85, 95, 105, 200], labels=['<90', '90 to 98', '98 to 105', '> 105'])\n",
    "phases_in['awaBin'] = pd.cut(phases_in['AWA'], bins=list(range(49,141,2)), labels=list(range(50,140,2)))\n",
    "phases_in['heelBin'] = pd.cut(abs(phases_in['AHEEL']), bins=list(np.arange(0.5,29.5,1)), labels=list(range(1,29)))\n",
    "phases_in['BspBin'] = pd.cut(phases_in['BSP'], bins=list(np.arange(3.9,25.1,0.2)), labels=list(np.arange(4,25.1,0.2)))\n",
    "phases_in['Mode'] = pd.cut(phases_in['TWA'], bins=[0,30,65,120,160,180], labels=['NAHigh','UpWind','Reaching','DownWind','NALow'])\n",
    "phases_in['TwsBin'] = pd.cut(phases_in['TWS'], bins=list(np.arange(0.5,34.5,1)), labels=list(range(1,34,1)))\n",
    "\n",
    "#phases_in['TwsBin'] = pd.cut(phases_in['TWS'], bins=list(range(1,34,2)), labels=list(range(2,34,2)))\n",
    "phases_in['TwaBin'] = pd.cut(phases_in['TWA'], bins=list(range(1,180,2)), labels=list(range(2,180,2)))"
   ]
  },
  {
   "cell_type": "code",
   "execution_count": 19,
   "id": "59f1f10b",
   "metadata": {},
   "outputs": [
    {
     "name": "stderr",
     "output_type": "stream",
     "text": [
      "/var/folders/1y/_719kcl11vggrmnzn4bbqdzw0000gn/T/ipykernel_4667/2663627082.py:69: UserWarning: Attempting to set identical left == right == 6.000000000000002 results in singular transformations; automatically expanding.\n",
      "  plt.xlim([min(bins_line),max(bins_line)])\n"
     ]
    },
    {
     "data": {
      "text/plain": [
       "<Figure size 432x288 with 0 Axes>"
      ]
     },
     "metadata": {},
     "output_type": "display_data"
    }
   ],
   "source": [
    "## Percentile graphs\n",
    "# make this easy to select metric and variable\n",
    "PGVar = 'BspBin'\n",
    "PGMetric = 'Vmg%'\n",
    "PGMode = 'UpWind'\n",
    "filter_remove = {}\n",
    "\n",
    "\n",
    "PGdataFrame = phases_in[phases_in['Mode']==PGMode]\n",
    "for key in filter_remove:\n",
    "    for filter in filter_remove[key]:\n",
    "        PGdataFrame = PGdataFrame[PGdataFrame['key']!=filter]\n",
    "\n",
    "PGdataFrame = PGdataFrame[[PGVar,PGMetric,'TwsBin']].dropna()\n",
    "PGarray = PGdataFrame.to_numpy()\n",
    "\n",
    "\n",
    "for tws in list(np.unique(PGarray[:,2])):\n",
    "    PGarray_tws = PGarray[np.where(PGarray==tws)[0],0:2]\n",
    "    if len(list(np.unique(PGarray_tws[:,0]))) < len(list(PGarray_tws[:,0])):\n",
    "        percentile_1 = []\n",
    "        percentile_2 = []\n",
    "        percentile_3 = []\n",
    "        percentile_4 = []\n",
    "        percentile_5 = []\n",
    "        bins_line = []\n",
    "        bins_point = []\n",
    "        points = []\n",
    "        bins = np.unique(PGarray_tws[:,0])\n",
    "        for bin in bins:\n",
    "            sample = PGarray[np.where(PGarray_tws[:,0]==bin),1:2][0]\n",
    "            if len(sample) > 1:\n",
    "                bins_line.append(bin)\n",
    "                score = np.percentile(sample,[50,75,90,95,99])\n",
    "                percentile_1.append(score[0])\n",
    "                percentile_2.append(score[1])\n",
    "                percentile_3.append(score[2])\n",
    "                percentile_4.append(score[3])\n",
    "                percentile_5.append(score[4])\n",
    "            else:\n",
    "                bins_point.append(bin)\n",
    "                points.append(sample[0])\n",
    "\n",
    "        plt.plot(bins_point,points,'bo', alpha=0.5)\n",
    "        plt.fill_between(\n",
    "            bins_line,\n",
    "            percentile_5,\n",
    "            percentile_4,\n",
    "            color='blue',\n",
    "            alpha=0.6)\n",
    "        plt.fill_between(\n",
    "            bins_line,\n",
    "            percentile_4,\n",
    "            percentile_3,\n",
    "            color='green',\n",
    "            alpha=0.75)\n",
    "        plt.fill_between(\n",
    "            bins_line,\n",
    "            percentile_3,\n",
    "            percentile_2,\n",
    "            color='orange',\n",
    "            alpha=0.5)\n",
    "        plt.fill_between(\n",
    "            bins_line,\n",
    "            percentile_2,\n",
    "            percentile_1,\n",
    "            color='red',\n",
    "            alpha=0.3)\n",
    "        plt.xlim([min(bins_line),max(bins_line)])\n",
    "        plt.title(str(PGVar)+' Percentile Graph @ TWS = '+str(tws))\n",
    "        plt.savefig(str(tws)+\"_\"+str(PGVar)+\"PercentileGraph.png\") # save plot\n",
    "        plt.clf() # close plot figure so it is not over plotted"
   ]
  },
  {
   "cell_type": "code",
   "execution_count": null,
   "id": "f6af4862",
   "metadata": {},
   "outputs": [],
   "source": []
  }
 ],
 "metadata": {
  "kernelspec": {
   "display_name": "Python 3 (ipykernel)",
   "language": "python",
   "name": "python3"
  },
  "language_info": {
   "codemirror_mode": {
    "name": "ipython",
    "version": 3
   },
   "file_extension": ".py",
   "mimetype": "text/x-python",
   "name": "python",
   "nbconvert_exporter": "python",
   "pygments_lexer": "ipython3",
   "version": "3.10.4"
  }
 },
 "nbformat": 4,
 "nbformat_minor": 5
}
