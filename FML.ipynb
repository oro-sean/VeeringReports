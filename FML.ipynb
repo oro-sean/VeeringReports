{
 "cells": [
  {
   "cell_type": "code",
   "execution_count": 1,
   "id": "initial_id",
   "metadata": {
    "collapsed": true,
    "ExecuteTime": {
     "end_time": "2024-02-26T07:53:37.626803Z",
     "start_time": "2024-02-26T07:53:35.283926Z"
    }
   },
   "outputs": [],
   "source": [
    "import mysql.connector\n",
    "import pandas as pd\n",
    "import numpy as np\n",
    "import matplotlib.pyplot as plt"
   ]
  },
  {
   "cell_type": "code",
   "outputs": [],
   "source": [
    "username = 'rrp'\n",
    "password = '23450Pac!'\n",
    "host = '192.168.100.109'\n",
    "database = 'flyingjenny'\n",
    "auth = 'mysql_native_password'\n",
    "cnx = mysql.connector.connect(host = host,\n",
    "                              user = username,\n",
    "                              passwd = password,\n",
    "                              database = database,\n",
    "                              auth_plugin = auth)"
   ],
   "metadata": {
    "collapsed": false,
    "ExecuteTime": {
     "end_time": "2024-02-26T07:53:39.511939Z",
     "start_time": "2024-02-26T07:53:39.471901Z"
    }
   },
   "id": "8809087d637849b3",
   "execution_count": 2
  },
  {
   "cell_type": "code",
   "outputs": [
    {
     "name": "stderr",
     "output_type": "stream",
     "text": [
      "/var/folders/b5/1kkh0fjj6cqg5n9rk3j623dr0000gn/T/ipykernel_3203/541845315.py:1: UserWarning: pandas only supports SQLAlchemy connectable (engine/connection) or database string URI or sqlite3 DBAPI2 connection. Other DBAPI2 objects are not tested. Please consider using SQLAlchemy.\n",
      "  phases_in = pd.read_sql_query('SELECT * FROM t_phase', cnx)\n"
     ]
    }
   ],
   "source": [
    "phases_in = pd.read_sql_query('SELECT * FROM t_phase', cnx)"
   ],
   "metadata": {
    "collapsed": false,
    "ExecuteTime": {
     "end_time": "2024-02-26T07:53:58.975195Z",
     "start_time": "2024-02-26T07:53:58.895257Z"
    }
   },
   "id": "cb1626bdbd203067",
   "execution_count": 3
  },
  {
   "cell_type": "code",
   "outputs": [],
   "source": [],
   "metadata": {
    "collapsed": false
   },
   "id": "147f70afe0c33c7c"
  }
 ],
 "metadata": {
  "kernelspec": {
   "display_name": "Python 3",
   "language": "python",
   "name": "python3"
  },
  "language_info": {
   "codemirror_mode": {
    "name": "ipython",
    "version": 2
   },
   "file_extension": ".py",
   "mimetype": "text/x-python",
   "name": "python",
   "nbconvert_exporter": "python",
   "pygments_lexer": "ipython2",
   "version": "2.7.6"
  }
 },
 "nbformat": 4,
 "nbformat_minor": 5
}
