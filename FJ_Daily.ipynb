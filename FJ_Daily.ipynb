{
 "cells": [
  {
   "cell_type": "code",
   "execution_count": 1,
   "id": "initial_id",
   "metadata": {
    "collapsed": true,
    "ExecuteTime": {
     "end_time": "2024-05-27T14:28:49.140589Z",
     "start_time": "2024-05-27T14:28:48.117242Z"
    }
   },
   "outputs": [],
   "source": [
    "import mysql.connector\n",
    "import pandas as pd\n",
    "import numpy as np\n",
    "import matplotlib.pyplot as plt\n",
    "from pygments.lexers import j\n",
    "import datetime"
   ]
  },
  {
   "cell_type": "code",
   "outputs": [],
   "source": [
    "## test this - then add catigorical variables\n",
    "class veeringPhase_frame:\n",
    "    ## pandas data from to recieve phases from SQL RRP.\n",
    "    ## frame is then processed to bin variables, define categorical variables\n",
    "    def __init__(self,rawFrame):\n",
    "        self.frame = rawFrame\n",
    "        \n",
    "    def Add_Date_column(self):\n",
    "        self.frame['Date'] = self.frame['StartTime'].apply(lambda x: x.date())\n",
    "\n",
    "    def CheckSigns(self,vars):\n",
    "        for var in vars:\n",
    "            self.frame[var] = abs(self.frame[var])\n",
    "\n",
    "    def DefineBins(self,min_max_step):\n",
    "        ## function takes a list [min, max, step] and defines the bin edges and labels\n",
    "        min, max, step = min_max_step[0], min_max_step[1]+1, min_max_step[2]\n",
    "        centres = list(np.arange(min,max,step))\n",
    "        min = min - (0.5*step)\n",
    "        max = max + (0.5*step)\n",
    "        edges = list(np.arange(min,max,step))\n",
    "        return centres, edges\n",
    "\n",
    "        \n",
    "    def Create_Bin_Variables(self,binVars):\n",
    "        ## function takes a list of variables [varName, newVarName, [min,max,step] and creates a binned variable\n",
    "        self.binVars = binVars\n",
    "        for var in self.binVars:\n",
    "            centres, edges = self.DefineBins(var[2])\n",
    "            self.frame[var[1]] = pd.cut(self.frame[var[0]], bins=edges, labels=centres)\n",
    "            \n",
    "    def Create_Categorical_Variables(self,catVars, cat_threshold):\n",
    "        ## function changes defined variables to a categorical type and removes categories where the count is < threshold\n",
    "        self.catVars = catVars\n",
    "        self.cat_threshold = cat_threshold\n",
    "        for var in categoricalVariables:\n",
    "            self.frame[var] = self.frame[var].astype('category')\n",
    "            catCount = self.frame.groupby(var).size()\n",
    "            catCount = catCount/sum(catCount)\n",
    "            drop = catCount[catCount < self.cat_threshold].index\n",
    "            self.frame[var] = self.frame[var].cat.remove_categories(drop)\n",
    "        \n",
    "        \n",
    "class veeringDay_frame:\n",
    "    def __init__(self,frame):\n",
    "        self.frame = frame\n",
    "        \n",
    "    def Filter_Date(self,date_list):\n",
    "        self.year = date_list[0]\n",
    "        self.month = date_list[1]\n",
    "        self.day = date_list[2]\n",
    "        self.frame = self.frame.loc[self.frame.Date == datetime.date(year=year,month=month,day=day)]\n",
    "        \n",
    "        "
   ],
   "metadata": {
    "collapsed": false,
    "ExecuteTime": {
     "end_time": "2024-05-27T14:28:53.650945Z",
     "start_time": "2024-05-27T14:28:53.645671Z"
    }
   },
   "id": "f48488e2f590998a",
   "execution_count": 2
  },
  {
   "cell_type": "code",
   "outputs": [
    {
     "name": "stderr",
     "output_type": "stream",
     "text": [
      "/var/folders/b5/1kkh0fjj6cqg5n9rk3j623dr0000gn/T/ipykernel_7021/3984410005.py:9: UserWarning: pandas only supports SQLAlchemy connectable (engine/connection) or database string URI or sqlite3 DBAPI2 connection. Other DBAPI2 objects are not tested. Please consider using SQLAlchemy.\n",
      "  phasesFrame = veeringPhase_frame(pd.read_sql_query('SELECT StartTime, SailingMode, RaceNum, TWS, TWA, BSP, HEEL, RUDDER, `BSPpol%`, `VMG%`, `BSP_trg%`, TWA_trg, AWA, FORESTAY, Chock, D1, D2, V1, Headstay, Mainsail, Headsail, Spinnaker FROM t_phase', cnx))\n"
     ]
    }
   ],
   "source": [
    "config = {'username':'veering',\n",
    "          'password':'veeringRaceReplay!',\n",
    "          'host':'veeringq.ddns.net',\n",
    "          'port':'3306',\n",
    "          'database':'flyingjenny'\n",
    "          }\n",
    "cnx = mysql.connector.connect(**config)\n",
    "\n",
    "phasesFrame = veeringPhase_frame(pd.read_sql_query('SELECT StartTime, SailingMode, RaceNum, TWS, TWA, BSP, HEEL, RUDDER, `BSPpol%`, `VMG%`, `BSP_trg%`, TWA_trg, AWA, FORESTAY, Chock, D1, D2, V1, Headstay, Mainsail, Headsail, Spinnaker FROM t_phase', cnx))\n",
    "\n",
    "cnx.close()"
   ],
   "metadata": {
    "collapsed": false,
    "ExecuteTime": {
     "end_time": "2024-05-27T14:29:08.290116Z",
     "start_time": "2024-05-27T14:28:55.101493Z"
    }
   },
   "id": "e3224560e51dc076",
   "execution_count": 3
  },
  {
   "cell_type": "code",
   "outputs": [],
   "source": [
    "checkSignVars = ['TWA']\n",
    "\n",
    "categoricalVars = ['SailingMode',\n",
    "                        'RaceNum',\n",
    "                        'Chock', \n",
    "                        'D1',\n",
    "                        'D2',\n",
    "                        'V1',\n",
    "                        'Headstay',\n",
    "                        'Mainsail',\n",
    "                        'Headsail',\n",
    "                        'Spinnaker']\n",
    "\n",
    "binVars = [['TWS', 'TWS_bin',[1, 30, 1]],\n",
    "           ['TWA', 'TWA_bin', [25, 165, 1]],\n",
    "           ['HEEL', 'HEEL_bin', [0, 25, 1]],\n",
    "           ['RUDDER', 'RUDDER_bin', [-1.6, 3.6, 0.2]],\n",
    "           ['FORESTAY', 'FORESTAY_bin', [0.2, 2.2, 0.1]],\n",
    "           ['BSP', 'BSP_bin', [3, 20, 0.1]],\n",
    "           ['AWA', 'AWA_bin', [50, 120, 1]]]\n",
    "\n",
    "date = [2023,6,9]\n"
   ],
   "metadata": {
    "collapsed": false,
    "ExecuteTime": {
     "end_time": "2024-05-26T12:23:52.224184Z",
     "start_time": "2024-05-26T12:23:52.221058Z"
    }
   },
   "id": "2388e7e0800262ca",
   "execution_count": 74
  },
  {
   "cell_type": "code",
   "outputs": [],
   "source": [
    "phasesFrame.Add_Date_column()\n",
    "phasesFrame.CheckSigns(checkSignVars)\n",
    "phasesFrame.Create_Categorical_Variables(categoricalVars,0.01)\n",
    "phasesFrame.Create_Bin_Variables(binVars)\n",
    "dayFrame = veeringDay_frame(phasesFrame.frame)\n",
    "dayFrame.Filter_Date(date)\n",
    "\n",
    "\n"
   ],
   "metadata": {
    "collapsed": false,
    "ExecuteTime": {
     "end_time": "2024-05-26T12:23:54.364247Z",
     "start_time": "2024-05-26T12:23:54.340595Z"
    }
   },
   "id": "b05729be839b6544",
   "execution_count": 75
  },
  {
   "cell_type": "code",
   "outputs": [
    {
     "data": {
      "text/plain": "TWS_bin\n16    41\n17    40\n15    32\n14    26\n19    13\n12    11\n18    11\n13    10\n20     8\n21     4\n11     4\n10     1\n22     1\n23     0\n24     0\n25     0\n26     0\n27     0\n28     0\n29     0\n1      0\n2      0\n9      0\n8      0\n7      0\n6      0\n5      0\n4      0\n3      0\n30     0\nName: count, dtype: int64"
     },
     "execution_count": 88,
     "metadata": {},
     "output_type": "execute_result"
    }
   ],
   "source": [
    "dayFrame.frame.TWS_bin.value_counts()"
   ],
   "metadata": {
    "collapsed": false,
    "ExecuteTime": {
     "end_time": "2024-05-26T12:35:43.502363Z",
     "start_time": "2024-05-26T12:35:43.499142Z"
    }
   },
   "id": "50a2318c4d2ca543",
   "execution_count": 88
  },
  {
   "cell_type": "code",
   "outputs": [
    {
     "data": {
      "text/plain": "0      14\n1      14\n2      11\n3      11\n4      16\n       ..\n197    17\n198    17\n199    17\n200    17\n201    17\nName: TWS_bin, Length: 202, dtype: category\nCategories (30, int64): [1 < 2 < 3 < 4 ... 27 < 28 < 29 < 30]"
     },
     "execution_count": 82,
     "metadata": {},
     "output_type": "execute_result"
    }
   ],
   "source": [
    "dayFrame.frame.TWS_bin"
   ],
   "metadata": {
    "collapsed": false,
    "ExecuteTime": {
     "end_time": "2024-05-26T12:31:13.054060Z",
     "start_time": "2024-05-26T12:31:13.051381Z"
    }
   },
   "id": "d1a1a2c1152d4dfe",
   "execution_count": 82
  },
  {
   "cell_type": "code",
   "outputs": [
    {
     "data": {
      "text/plain": "datetime.date(2023, 6, 9)"
     },
     "execution_count": 64,
     "metadata": {},
     "output_type": "execute_result"
    }
   ],
   "source": [
    "phasesFrame.frame['Date'][0]"
   ],
   "metadata": {
    "collapsed": false,
    "ExecuteTime": {
     "end_time": "2024-05-26T12:15:34.064200Z",
     "start_time": "2024-05-26T12:15:34.060568Z"
    }
   },
   "id": "ad5ed268dc419e84",
   "execution_count": 64
  },
  {
   "cell_type": "code",
   "outputs": [
    {
     "ename": "AttributeError",
     "evalue": "'Series' object has no attribute 'type'",
     "output_type": "error",
     "traceback": [
      "\u001B[0;31m---------------------------------------------------------------------------\u001B[0m",
      "\u001B[0;31mAttributeError\u001B[0m                            Traceback (most recent call last)",
      "\u001B[0;32m/var/folders/b5/1kkh0fjj6cqg5n9rk3j623dr0000gn/T/ipykernel_920/1372808889.py\u001B[0m in \u001B[0;36m?\u001B[0;34m()\u001B[0m\n\u001B[0;32m----> 1\u001B[0;31m \u001B[0mphasesFrame\u001B[0m\u001B[0;34m.\u001B[0m\u001B[0mframe\u001B[0m\u001B[0;34m[\u001B[0m\u001B[0;34m'StartTime'\u001B[0m\u001B[0;34m]\u001B[0m\u001B[0;34m.\u001B[0m\u001B[0mapply\u001B[0m\u001B[0;34m(\u001B[0m\u001B[0;32mlambda\u001B[0m \u001B[0mx\u001B[0m\u001B[0;34m:\u001B[0m \u001B[0mx\u001B[0m\u001B[0;34m.\u001B[0m\u001B[0mdate\u001B[0m\u001B[0;34m(\u001B[0m\u001B[0;34m)\u001B[0m\u001B[0;34m)\u001B[0m\u001B[0;34m.\u001B[0m\u001B[0mtype\u001B[0m\u001B[0;34m(\u001B[0m\u001B[0;34m)\u001B[0m\u001B[0;34m\u001B[0m\u001B[0;34m\u001B[0m\u001B[0m\n\u001B[0m",
      "\u001B[0;32m~/anaconda3/envs/VeeringReports/lib/python3.8/site-packages/pandas/core/generic.py\u001B[0m in \u001B[0;36m?\u001B[0;34m(self, name)\u001B[0m\n\u001B[1;32m   5985\u001B[0m             \u001B[0;32mand\u001B[0m \u001B[0mname\u001B[0m \u001B[0;32mnot\u001B[0m \u001B[0;32min\u001B[0m \u001B[0mself\u001B[0m\u001B[0;34m.\u001B[0m\u001B[0m_accessors\u001B[0m\u001B[0;34m\u001B[0m\u001B[0;34m\u001B[0m\u001B[0m\n\u001B[1;32m   5986\u001B[0m             \u001B[0;32mand\u001B[0m \u001B[0mself\u001B[0m\u001B[0;34m.\u001B[0m\u001B[0m_info_axis\u001B[0m\u001B[0;34m.\u001B[0m\u001B[0m_can_hold_identifiers_and_holds_name\u001B[0m\u001B[0;34m(\u001B[0m\u001B[0mname\u001B[0m\u001B[0;34m)\u001B[0m\u001B[0;34m\u001B[0m\u001B[0;34m\u001B[0m\u001B[0m\n\u001B[1;32m   5987\u001B[0m         ):\n\u001B[1;32m   5988\u001B[0m             \u001B[0;32mreturn\u001B[0m \u001B[0mself\u001B[0m\u001B[0;34m[\u001B[0m\u001B[0mname\u001B[0m\u001B[0;34m]\u001B[0m\u001B[0;34m\u001B[0m\u001B[0;34m\u001B[0m\u001B[0m\n\u001B[0;32m-> 5989\u001B[0;31m         \u001B[0;32mreturn\u001B[0m \u001B[0mobject\u001B[0m\u001B[0;34m.\u001B[0m\u001B[0m__getattribute__\u001B[0m\u001B[0;34m(\u001B[0m\u001B[0mself\u001B[0m\u001B[0;34m,\u001B[0m \u001B[0mname\u001B[0m\u001B[0;34m)\u001B[0m\u001B[0;34m\u001B[0m\u001B[0;34m\u001B[0m\u001B[0m\n\u001B[0m",
      "\u001B[0;31mAttributeError\u001B[0m: 'Series' object has no attribute 'type'"
     ]
    }
   ],
   "source": [],
   "metadata": {
    "collapsed": false,
    "ExecuteTime": {
     "end_time": "2024-05-26T12:10:17.539042Z",
     "start_time": "2024-05-26T12:10:17.528651Z"
    }
   },
   "id": "23afdb83a1fd536b",
   "execution_count": 47
  },
  {
   "cell_type": "code",
   "outputs": [],
   "source": [],
   "metadata": {
    "collapsed": false
   },
   "id": "8fc3a8256f7e60f0"
  }
 ],
 "metadata": {
  "kernelspec": {
   "display_name": "Python 3",
   "language": "python",
   "name": "python3"
  },
  "language_info": {
   "codemirror_mode": {
    "name": "ipython",
    "version": 2
   },
   "file_extension": ".py",
   "mimetype": "text/x-python",
   "name": "python",
   "nbconvert_exporter": "python",
   "pygments_lexer": "ipython2",
   "version": "2.7.6"
  }
 },
 "nbformat": 4,
 "nbformat_minor": 5
}
