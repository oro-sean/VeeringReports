{
 "cells": [
  {
   "cell_type": "code",
   "execution_count": 17,
   "id": "initial_id",
   "metadata": {
    "collapsed": true,
    "ExecuteTime": {
     "end_time": "2024-05-25T02:58:18.882620Z",
     "start_time": "2024-05-25T02:58:18.880076Z"
    }
   },
   "outputs": [],
   "source": [
    "import mysql.connector\n",
    "import pandas as pd\n",
    "import numpy as np\n",
    "import matplotlib.pyplot as plt\n",
    "from pygments.lexers import j"
   ]
  },
  {
   "cell_type": "code",
   "outputs": [],
   "source": [
    "## test this - then add catigorical variables\n",
    "class veeringPhase_frame:\n",
    "    def __init__(self,rawFrame):\n",
    "        self.rawFrame = rawFrame\n",
    "\n",
    "    def DefineBins(self,min_max_step):\n",
    "        min, max, step = min_max_step[0], min_max_step[1]+1, min_max_step[2]\n",
    "        centres = list(np.arange(min,max,step))\n",
    "        min = min - (0.5*step)\n",
    "        max = max + (0.5*step)\n",
    "        edges = list(np.arange(min,max,step))\n",
    "        return centres, edges\n",
    "\n",
    "        \n",
    "    def Create_Bin_Variables(self,binVars):\n",
    "        self.binVars = binVars\n",
    "        for var in self.binVars:\n",
    "            centres, edges = self.DefineBins(var[2])\n",
    "            phases_in[var[1]] = pd.cut(phases_in[var[0]], bins=edges, labels=centres)\n",
    "            \n",
    "            \n",
    "        "
   ],
   "metadata": {
    "collapsed": false
   },
   "id": "f48488e2f590998a"
  },
  {
   "cell_type": "code",
   "outputs": [
    {
     "name": "stderr",
     "output_type": "stream",
     "text": [
      "/var/folders/b5/1kkh0fjj6cqg5n9rk3j623dr0000gn/T/ipykernel_2057/2585399934.py:9: UserWarning: pandas only supports SQLAlchemy connectable (engine/connection) or database string URI or sqlite3 DBAPI2 connection. Other DBAPI2 objects are not tested. Please consider using SQLAlchemy.\n",
      "  phases_in = pd.read_sql_query('SELECT StartTime, SailingMode, RaceNum, TWS, TWA, BSP, HEEL, RUDDER, `BSPpol%`, `VMG%`, `BSP_trg%`, TWA_trg, AWA, FORESTAY, Chock, D1, D2, V1, Headstay, Mainsail, Headsail, Spinnaker FROM t_phase', cnx)\n"
     ]
    }
   ],
   "source": [
    "config = {'username':'veering',\n",
    "          'password':'veeringRaceReplay!',\n",
    "          'host':'veeringq.ddns.net',\n",
    "          'port':'3306',\n",
    "          'database':'flyingjenny'\n",
    "          }\n",
    "cnx = mysql.connector.connect(**config)\n",
    "\n",
    "phases_in = pd.read_sql_query('SELECT StartTime, SailingMode, RaceNum, TWS, TWA, BSP, HEEL, RUDDER, `BSPpol%`, `VMG%`, `BSP_trg%`, TWA_trg, AWA, FORESTAY, Chock, D1, D2, V1, Headstay, Mainsail, Headsail, Spinnaker FROM t_phase', cnx)\n",
    "\n",
    "cnx.close()"
   ],
   "metadata": {
    "collapsed": false,
    "ExecuteTime": {
     "end_time": "2024-05-25T02:58:27.456629Z",
     "start_time": "2024-05-25T02:58:19.653757Z"
    }
   },
   "id": "e3224560e51dc076",
   "execution_count": 18
  },
  {
   "cell_type": "code",
   "outputs": [],
   "source": [
    "categoricalVariables = ['SailingMode', 'RaceNum', 'Chock', 'D1', 'D2', 'V1', 'Headstay', 'Mainsail', 'Headsail', 'Spinnaker']\n",
    "for var in categoricalVariables:\n",
    "    phases_in[var] = phases_in[var].astype('category')\n",
    "    catCount = phases_in.groupby(var).size()\n",
    "    catCount = catCount/sum(catCount)\n",
    "    drop = catCount[catCount < 0.01].index\n",
    "    phases_in[var] = phases_in[var].cat.remove_categories(drop)"
   ],
   "metadata": {
    "collapsed": false,
    "ExecuteTime": {
     "end_time": "2024-05-25T03:07:51.701372Z",
     "start_time": "2024-05-25T03:07:51.679773Z"
    }
   },
   "id": "2388e7e0800262ca",
   "execution_count": 21
  },
  {
   "cell_type": "code",
   "outputs": [],
   "source": [
    "min, max, step = 1, 30, 1\n",
    "min = min - (0.5*step)\n",
    "max = max + (0.5*step)\n",
    "\n"
   ],
   "metadata": {
    "collapsed": false,
    "ExecuteTime": {
     "end_time": "2024-05-26T05:05:28.942270Z",
     "start_time": "2024-05-26T05:05:28.939234Z"
    }
   },
   "id": "b05729be839b6544",
   "execution_count": 52
  },
  {
   "cell_type": "code",
   "outputs": [
    {
     "name": "stdout",
     "output_type": "stream",
     "text": [
      "[0.5, 1.5, 2.5, 3.5, 4.5, 5.5, 6.5, 7.5, 8.5, 9.5, 10.5, 11.5, 12.5, 13.5, 14.5, 15.5, 16.5, 17.5, 18.5, 19.5, 20.5, 21.5, 22.5, 23.5, 24.5, 25.5, 26.5, 27.5, 28.5, 29.5, 30.5] [1, 2, 3, 4, 5, 6, 7, 8, 9, 10, 11, 12, 13, 14, 15, 16, 17, 18, 19, 20, 21, 22, 23, 24, 25, 26, 27, 28, 29, 30]\n"
     ]
    }
   ],
   "source": [
    "binVars = [['TWS', 'TWS_bin', [1,30,1]]]\n",
    "\n",
    "for var in binVars:\n",
    "    edges, centres = DefineBins(var[2])\n",
    "    \n",
    "    \n"
   ],
   "metadata": {
    "collapsed": false,
    "ExecuteTime": {
     "end_time": "2024-05-26T05:05:29.765166Z",
     "start_time": "2024-05-26T05:05:29.761901Z"
    }
   },
   "id": "14c12598b7e07c3f",
   "execution_count": 53
  },
  {
   "cell_type": "code",
   "outputs": [],
   "source": [
    "\n",
    "binVars = [['TWS', 'TWS_bin', list(np.arange(0.5,30.5,1)), list(np.arange(1,30,1))],\n",
    "['TWA', 'TWA_bin', list(np.arange(24.5,165.5,1)), list(np.arange(25,165,1))],\n",
    "['HEEL', 'HEEL_bin', list(np.arange(-0.5,25.5,1)), list(np.arange(0,25,1))],\n",
    "['RUDDER', 'RUDDER_bin', list(np.arange(-1.7,3.5,0.2)), list(np.arange(-1.6,3.4,0.2))],\n",
    "['FORESTAY', 'FORESTAY_bin', list(np.arange(0.15,2.25,0.1)), list(np.arange(0.2,2.2,0.1))],\n",
    "['BSP', 'BSP_bin', list(np.arange(2.95,20.05,0.1)), list(np.arange(3,20,0.1))],\n",
    "['AWA', 'AWA_bin', list(np.arange(49.5,120.5,1)), list(np.arange(50,120,1))]]\n"
   ],
   "metadata": {
    "collapsed": false
   },
   "id": "332e0219dbeec522",
   "execution_count": 46
  },
  {
   "cell_type": "code",
   "outputs": [
    {
     "name": "stdout",
     "output_type": "stream",
     "text": [
      "0\n",
      "1\n",
      "2\n",
      "3\n",
      "4\n",
      "5\n",
      "6\n"
     ]
    }
   ],
   "source": [
    "for i in range(len(binVars)):\n",
    "    "
   ],
   "metadata": {
    "collapsed": false,
    "ExecuteTime": {
     "end_time": "2024-05-26T04:27:27.343556Z",
     "start_time": "2024-05-26T04:27:27.333273Z"
    }
   },
   "id": "bb6deec801e79f61",
   "execution_count": 47
  },
  {
   "cell_type": "code",
   "outputs": [],
   "source": [],
   "metadata": {
    "collapsed": false
   },
   "id": "f312440e7ca181d3"
  }
 ],
 "metadata": {
  "kernelspec": {
   "display_name": "Python 3",
   "language": "python",
   "name": "python3"
  },
  "language_info": {
   "codemirror_mode": {
    "name": "ipython",
    "version": 2
   },
   "file_extension": ".py",
   "mimetype": "text/x-python",
   "name": "python",
   "nbconvert_exporter": "python",
   "pygments_lexer": "ipython2",
   "version": "2.7.6"
  }
 },
 "nbformat": 4,
 "nbformat_minor": 5
}
