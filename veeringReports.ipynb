{
 "cells": [
  {
   "cell_type": "code",
   "execution_count": 17,
   "id": "e13c1595",
   "metadata": {
    "pycharm": {
     "name": "#%%\n"
    }
   },
   "outputs": [],
   "source": [
    "# Import excel spreadsheet to pandas data frame\n",
    "import pandas as pd\n",
    "import seaborn as sns\n",
    "import matplotlib.pyplot as plt\n",
    "from scipy import stats\n",
    "import numpy as np\n",
    "import math"
   ]
  },
  {
   "cell_type": "code",
   "execution_count": 5,
   "id": "56a76227",
   "metadata": {
    "pycharm": {
     "name": "#%%\n"
    }
   },
   "outputs": [],
   "source": [
    "# Define path the folder and phase excel file from RRP\n",
    "directory = '/Users/sean/Documents/FJ_round2/'  # job folder\n",
    "file_phase='PhaseTableReport(1).xlsx' # phase report from RRP\n",
    "file_log = 'log-2022Dec02.proc.concat.1s_clean.csv' # log file from log cleaner\n",
    "headerRow = 1 # row number of first phase in phase report"
   ]
  },
  {
   "cell_type": "code",
   "execution_count": 6,
   "id": "5101d406",
   "metadata": {
    "pycharm": {
     "name": "#%%\n"
    }
   },
   "outputs": [],
   "source": [
    "# import using read_excel, using headercolumn as columnnames\n",
    "phases_in = pd.read_excel(directory+file_phase, header=headerRow-1)\n",
    "phases_in = phases_in.dropna(subset=['StartTime']) # remove excess rows\n"
   ]
  },
  {
   "cell_type": "code",
   "execution_count": 7,
   "id": "582360e4",
   "metadata": {
    "pycharm": {
     "name": "#%%\n"
    }
   },
   "outputs": [
    {
     "data": {
      "text/plain": [
       "Index(['Type', 'Tack', 'StartTime', 'Duration', 'Sails', 'RaceLeg', 'Subject',\n",
       "       'Comments', 'Density', 'TWS', 'TWA', 'Perf', 'Pol%', 'Vmg%', 'TWS_Bin',\n",
       "       'TWA_Bin', 'BSP_Bin', 'Dist (Nm)', 'BSP', 'AHEEL', 'AWA', 'TRIM'],\n",
       "      dtype='object')"
      ]
     },
     "execution_count": 7,
     "metadata": {},
     "output_type": "execute_result"
    }
   ],
   "source": [
    "phases_in.columns"
   ]
  },
  {
   "cell_type": "code",
   "execution_count": 8,
   "id": "c81b2fbc",
   "metadata": {
    "pycharm": {
     "name": "#%%\n"
    }
   },
   "outputs": [
    {
     "name": "stdout",
     "output_type": "stream",
     "text": [
      "error loading log file\n"
     ]
    }
   ],
   "source": [
    "# convert excel time to datetime and round to nearest second\n",
    "try:\n",
    "    log_in = pd.read_csv(directory+file_log, low_memory=False) # import log using read_csv\n",
    "    timeHeader = input(\"Enter column for time stamp\\n\"+ str(list(log_in.columns)))\n",
    "    for var in list(log_in): # iterate over each variable in the log file\n",
    "        log_in[var] = pd.to_numeric(log_in[var], errors='coerce') # change variable type to numeric\n",
    "        log_in[var] = log_in[var].astype('float') # chnage data type to float\n",
    "    log_in[timeHeader] = pd.to_datetime(log_in[timeHeader], unit='D', origin='1899-12-30').round('1s') # make the timestamps a datetime type\n",
    "except:\n",
    "    print(\"error loading log file\")"
   ]
  },
  {
   "cell_type": "code",
   "execution_count": 16,
   "id": "910df337",
   "metadata": {
    "pycharm": {
     "name": "#%%\n"
    }
   },
   "outputs": [],
   "source": [
    "# convert excel time to datetime and round to nearest second\n",
    "try:\n",
    "    log_in = pd.read_csv(directory+file_log, low_memory=False) # import log using read_csv\n",
    "    timeHeader = input(\"Enter column for time stamp\\n\"+ str(list(log_in.columns)))\n",
    "    for var in list(log_in): # iterate over each variable in the log file\n",
    "        log_in[var] = pd.to_numeric(log_in[var], errors='coerce') # change variable type to numeric\n",
    "        log_in[var] = log_in[var].astype('float') # chnage data type to float\n",
    "    log_in[timeHeader] = pd.to_datetime(log_in[timeHeader], unit='D', origin='1899-12-30').round('1s') # make the timestamps a datetime type\n",
    "except:\n",
    "    print(\"error loading log file\")"
   ]
  },
  {
   "cell_type": "code",
   "execution_count": 10,
   "id": "71f6498d",
   "metadata": {
    "pycharm": {
     "name": "#%%\n"
    }
   },
   "outputs": [
    {
     "name": "stdout",
     "output_type": "stream",
     "text": [
      "The following categories where dropped from TWS_Bin\n",
      "\n",
      "22\n"
     ]
    }
   ],
   "source": [
    "# set categorical variable types\n",
    "categoricalVariables = ['Sails','Tack', 'TWS_Bin', 'TWA_Bin']\n",
    "dropped = []\n",
    "for var in categoricalVariables: # iterate over all categorical variables\n",
    "    phases_in[var] = phases_in[var].astype('category') # change type to catagorical\n",
    "    catCount = phases_in.groupby(var).size() # find total number of each category\n",
    "    catCount = catCount/sum(catCount) # calculate category size as fraction of all observations\n",
    "    drop = catCount[catCount < 0.01].index # identify cases that represent less than 1%\n",
    "    phases_in[var] = phases_in[var].cat.remove_categories(drop) # drop cases which represent less than 1%\n",
    "    dropped.append(drop)\n",
    "## Print dropped catagories\n",
    "for i in range(len(dropped)): #iterate over each entry in dropped list\n",
    "    if len(dropped[i]) > 0: #check if any indecies are present\n",
    "        print(\"The following categories where dropped from \"+str(dropped[i].name)+\"\\n\")\n",
    "        for n in range(len(dropped[i])): # iterate over each dropped entry\n",
    "            print(str(dropped[i][n])) # print each dropped category\n"
   ]
  },
  {
   "cell_type": "code",
   "execution_count": 11,
   "id": "f5069fb3",
   "metadata": {
    "pycharm": {
     "name": "#%%\n"
    }
   },
   "outputs": [
    {
     "name": "stdout",
     "output_type": "stream",
     "text": [
      "The variable Sails contains the following catagories\n",
      "A1.5-C\n",
      "A1.5-D\n",
      "A2-D\n",
      "J1-B\n",
      "J1.5-D\n",
      "J2.5-C\n",
      "-------------------------------- \n",
      "\n",
      "The variable Tack contains the following catagories\n",
      "Port/Dn\n",
      "Port/Rch\n",
      "Port/Up\n",
      "Stbd/Dn\n",
      "Stbd/Rch\n",
      "Stbd/Up\n",
      "-------------------------------- \n",
      "\n",
      "The variable TWS_Bin contains the following catagories\n",
      "6\n",
      "8\n",
      "10\n",
      "12\n",
      "14\n",
      "16\n",
      "18\n",
      "20\n",
      "-------------------------------- \n",
      "\n",
      "The variable TWA_Bin contains the following catagories\n",
      "35\n",
      "40\n",
      "45\n",
      "50\n",
      "55\n",
      "120\n",
      "130\n",
      "140\n",
      "150\n",
      "160\n",
      "170\n",
      "-------------------------------- \n",
      "\n"
     ]
    }
   ],
   "source": [
    "## rename categories in categorical variables\n",
    "for var in categoricalVariables:\n",
    "    print(\"The variable \"+str(var)+\" contains the following catagories\")\n",
    "    for n in range(len(phases_in[var].cat.categories)):\n",
    "        print(phases_in[var].cat.categories[n])\n",
    "    print(\"-------------------------------- \\n\")\n",
    "### to be finished\n",
    "#renameDict = {'dayNight':['Night','Day']}\n",
    "#phases_in['DayNight'].cat.rename_categories(['Night', 'Day'], inplace=True) # change Daynight from 0/1 to night/Day"
   ]
  },
  {
   "cell_type": "code",
   "execution_count": 13,
   "id": "b311fc24",
   "metadata": {
    "pycharm": {
     "name": "#%%\n"
    }
   },
   "outputs": [],
   "source": [
    "## create custom bins\n",
    "phases_in['BspPolBin'] = pd.cut(phases_in['Pol%'], bins=[0, 90, 98, 105, 200], labels=['<90', '90 to 98', '98 to 105', '> 105'])\n",
    "phases_in['VmgPercBin'] = pd.cut(phases_in['Vmg%'], bins=[0, 85, 95, 105, 200], labels=['<90', '90 to 98', '98 to 105', '> 105'])\n",
    "phases_in['awaBin'] = pd.cut(phases_in['AWA'], bins=list(range(49,141,2)), labels=list(range(50,140,2)))\n",
    "phases_in['heelBin'] = pd.cut(abs(phases_in['AHEEL']), bins=list(np.arange(0.5,29.5,1)), labels=list(range(1,29)))\n",
    "phases_in['BspBin'] = pd.cut(phases_in['BSP'], bins=list(np.arange(3.9,25.1,0.2)), labels=list(np.arange(4,25.1,0.2)))\n",
    "phases_in['Mode'] = pd.cut(phases_in['TWA'], bins=[0,30,65,120,160,180], labels=['NAHigh','UpWind','Reaching','DownWind','NALow'])\n",
    "phases_in['TwsBin'] = pd.cut(phases_in['TWS'], bins=list(np.arange(0.5,34.5,1)), labels=list(range(1,34,1)))\n",
    "\n",
    "#phases_in['TwsBin'] = pd.cut(phases_in['TWS'], bins=list(range(1,34,2)), labels=list(range(2,34,2)))\n",
    "phases_in['TwaBin'] = pd.cut(phases_in['TWA'], bins=list(range(1,180,2)), labels=list(range(2,180,2)))"
   ]
  },
  {
   "cell_type": "code",
   "execution_count": 15,
   "id": "3d17f513",
   "metadata": {
    "pycharm": {
     "name": "#%%\n"
    }
   },
   "outputs": [
    {
     "data": {
      "text/plain": [
       "0       3\n",
       "1       3\n",
       "2       2\n",
       "3       2\n",
       "4       1\n",
       "       ..\n",
       "547    13\n",
       "548    12\n",
       "549    11\n",
       "550    11\n",
       "551    13\n",
       "Name: AHEEL, Length: 552, dtype: category\n",
       "Categories (28, int64): [1 < 2 < 3 < 4 ... 25 < 26 < 27 < 28]"
      ]
     },
     "execution_count": 15,
     "metadata": {},
     "output_type": "execute_result"
    }
   ],
   "source": [
    "pd.cut(abs(phases_in['AHEEL']), bins=list(np.arange(0.5,29.5,1)), labels=list(range(1,29)))"
   ]
  },
  {
   "cell_type": "code",
   "execution_count": 33,
   "id": "7110fe86",
   "metadata": {
    "pycharm": {
     "name": "#%%\n"
    }
   },
   "outputs": [
    {
     "data": {
      "text/plain": [
       "0      -5.6\n",
       "1       -11\n",
       "2     -11.4\n",
       "3      -8.6\n",
       "4     -11.8\n",
       "       ... \n",
       "925   -29.1\n",
       "926   -26.6\n",
       "927   -22.3\n",
       "928   -25.3\n",
       "929   -24.7\n",
       "Name: HEEL, Length: 930, dtype: object"
      ]
     },
     "execution_count": 33,
     "metadata": {},
     "output_type": "execute_result"
    }
   ],
   "source": [
    "phases_in['HEEL']"
   ]
  },
  {
   "cell_type": "code",
   "execution_count": 16,
   "id": "1f3e463b",
   "metadata": {
    "pycharm": {
     "name": "#%%\n"
    }
   },
   "outputs": [
    {
     "ename": "KeyError",
     "evalue": "\"['BSP_trg%'] not in index\"",
     "output_type": "error",
     "traceback": [
      "\u001B[0;31m---------------------------------------------------------------------------\u001B[0m",
      "\u001B[0;31mKeyError\u001B[0m                                  Traceback (most recent call last)",
      "Input \u001B[0;32mIn [16]\u001B[0m, in \u001B[0;36m<cell line: 14>\u001B[0;34m()\u001B[0m\n\u001B[1;32m     11\u001B[0m     \u001B[38;5;28;01mfor\u001B[39;00m \u001B[38;5;28mfilter\u001B[39m \u001B[38;5;129;01min\u001B[39;00m filter_remove[key]:\n\u001B[1;32m     12\u001B[0m         PGdataFrame \u001B[38;5;241m=\u001B[39m PGdataFrame[PGdataFrame[\u001B[38;5;124m'\u001B[39m\u001B[38;5;124mkey\u001B[39m\u001B[38;5;124m'\u001B[39m]\u001B[38;5;241m!=\u001B[39m\u001B[38;5;28mfilter\u001B[39m]\n\u001B[0;32m---> 14\u001B[0m PGdataFrame \u001B[38;5;241m=\u001B[39m \u001B[43mPGdataFrame\u001B[49m\u001B[43m[\u001B[49m\u001B[43m[\u001B[49m\u001B[43mPGVar\u001B[49m\u001B[43m,\u001B[49m\u001B[43mPGMetric\u001B[49m\u001B[43m,\u001B[49m\u001B[38;5;124;43m'\u001B[39;49m\u001B[38;5;124;43mTwsBin\u001B[39;49m\u001B[38;5;124;43m'\u001B[39;49m\u001B[43m]\u001B[49m\u001B[43m]\u001B[49m\u001B[38;5;241m.\u001B[39mdropna()\n\u001B[1;32m     15\u001B[0m PGarray \u001B[38;5;241m=\u001B[39m PGdataFrame\u001B[38;5;241m.\u001B[39mto_numpy()\n\u001B[1;32m     18\u001B[0m \u001B[38;5;28;01mfor\u001B[39;00m tws \u001B[38;5;129;01min\u001B[39;00m \u001B[38;5;28mlist\u001B[39m(np\u001B[38;5;241m.\u001B[39munique(PGarray[:,\u001B[38;5;241m2\u001B[39m])):\n",
      "File \u001B[0;32m~/.conda/envs/veeringReporting/lib/python3.10/site-packages/pandas/core/frame.py:3511\u001B[0m, in \u001B[0;36mDataFrame.__getitem__\u001B[0;34m(self, key)\u001B[0m\n\u001B[1;32m   3509\u001B[0m     \u001B[38;5;28;01mif\u001B[39;00m is_iterator(key):\n\u001B[1;32m   3510\u001B[0m         key \u001B[38;5;241m=\u001B[39m \u001B[38;5;28mlist\u001B[39m(key)\n\u001B[0;32m-> 3511\u001B[0m     indexer \u001B[38;5;241m=\u001B[39m \u001B[38;5;28;43mself\u001B[39;49m\u001B[38;5;241;43m.\u001B[39;49m\u001B[43mcolumns\u001B[49m\u001B[38;5;241;43m.\u001B[39;49m\u001B[43m_get_indexer_strict\u001B[49m\u001B[43m(\u001B[49m\u001B[43mkey\u001B[49m\u001B[43m,\u001B[49m\u001B[43m \u001B[49m\u001B[38;5;124;43m\"\u001B[39;49m\u001B[38;5;124;43mcolumns\u001B[39;49m\u001B[38;5;124;43m\"\u001B[39;49m\u001B[43m)\u001B[49m[\u001B[38;5;241m1\u001B[39m]\n\u001B[1;32m   3513\u001B[0m \u001B[38;5;66;03m# take() does not accept boolean indexers\u001B[39;00m\n\u001B[1;32m   3514\u001B[0m \u001B[38;5;28;01mif\u001B[39;00m \u001B[38;5;28mgetattr\u001B[39m(indexer, \u001B[38;5;124m\"\u001B[39m\u001B[38;5;124mdtype\u001B[39m\u001B[38;5;124m\"\u001B[39m, \u001B[38;5;28;01mNone\u001B[39;00m) \u001B[38;5;241m==\u001B[39m \u001B[38;5;28mbool\u001B[39m:\n",
      "File \u001B[0;32m~/.conda/envs/veeringReporting/lib/python3.10/site-packages/pandas/core/indexes/base.py:5782\u001B[0m, in \u001B[0;36mIndex._get_indexer_strict\u001B[0;34m(self, key, axis_name)\u001B[0m\n\u001B[1;32m   5779\u001B[0m \u001B[38;5;28;01melse\u001B[39;00m:\n\u001B[1;32m   5780\u001B[0m     keyarr, indexer, new_indexer \u001B[38;5;241m=\u001B[39m \u001B[38;5;28mself\u001B[39m\u001B[38;5;241m.\u001B[39m_reindex_non_unique(keyarr)\n\u001B[0;32m-> 5782\u001B[0m \u001B[38;5;28;43mself\u001B[39;49m\u001B[38;5;241;43m.\u001B[39;49m\u001B[43m_raise_if_missing\u001B[49m\u001B[43m(\u001B[49m\u001B[43mkeyarr\u001B[49m\u001B[43m,\u001B[49m\u001B[43m \u001B[49m\u001B[43mindexer\u001B[49m\u001B[43m,\u001B[49m\u001B[43m \u001B[49m\u001B[43maxis_name\u001B[49m\u001B[43m)\u001B[49m\n\u001B[1;32m   5784\u001B[0m keyarr \u001B[38;5;241m=\u001B[39m \u001B[38;5;28mself\u001B[39m\u001B[38;5;241m.\u001B[39mtake(indexer)\n\u001B[1;32m   5785\u001B[0m \u001B[38;5;28;01mif\u001B[39;00m \u001B[38;5;28misinstance\u001B[39m(key, Index):\n\u001B[1;32m   5786\u001B[0m     \u001B[38;5;66;03m# GH 42790 - Preserve name from an Index\u001B[39;00m\n",
      "File \u001B[0;32m~/.conda/envs/veeringReporting/lib/python3.10/site-packages/pandas/core/indexes/base.py:5845\u001B[0m, in \u001B[0;36mIndex._raise_if_missing\u001B[0;34m(self, key, indexer, axis_name)\u001B[0m\n\u001B[1;32m   5842\u001B[0m     \u001B[38;5;28;01mraise\u001B[39;00m \u001B[38;5;167;01mKeyError\u001B[39;00m(\u001B[38;5;124mf\u001B[39m\u001B[38;5;124m\"\u001B[39m\u001B[38;5;124mNone of [\u001B[39m\u001B[38;5;132;01m{\u001B[39;00mkey\u001B[38;5;132;01m}\u001B[39;00m\u001B[38;5;124m] are in the [\u001B[39m\u001B[38;5;132;01m{\u001B[39;00maxis_name\u001B[38;5;132;01m}\u001B[39;00m\u001B[38;5;124m]\u001B[39m\u001B[38;5;124m\"\u001B[39m)\n\u001B[1;32m   5844\u001B[0m not_found \u001B[38;5;241m=\u001B[39m \u001B[38;5;28mlist\u001B[39m(ensure_index(key)[missing_mask\u001B[38;5;241m.\u001B[39mnonzero()[\u001B[38;5;241m0\u001B[39m]]\u001B[38;5;241m.\u001B[39munique())\n\u001B[0;32m-> 5845\u001B[0m \u001B[38;5;28;01mraise\u001B[39;00m \u001B[38;5;167;01mKeyError\u001B[39;00m(\u001B[38;5;124mf\u001B[39m\u001B[38;5;124m\"\u001B[39m\u001B[38;5;132;01m{\u001B[39;00mnot_found\u001B[38;5;132;01m}\u001B[39;00m\u001B[38;5;124m not in index\u001B[39m\u001B[38;5;124m\"\u001B[39m)\n",
      "\u001B[0;31mKeyError\u001B[0m: \"['BSP_trg%'] not in index\""
     ]
    }
   ],
   "source": [
    "## Percentile graphs\n",
    "# make this easy to select metric and variable\n",
    "PGVar = 'heelBin'\n",
    "PGMetric = 'BSP_trg%'\n",
    "PGMode = 'UpWind'\n",
    "filter_remove = {}\n",
    "\n",
    "\n",
    "PGdataFrame = phases_in[phases_in['Mode']==PGMode]\n",
    "for key in filter_remove:\n",
    "    for filter in filter_remove[key]:\n",
    "        PGdataFrame = PGdataFrame[PGdataFrame['key']!=filter]\n",
    "\n",
    "PGdataFrame = PGdataFrame[[PGVar,PGMetric,'TwsBin']].dropna()\n",
    "PGarray = PGdataFrame.to_numpy()\n",
    "\n",
    "\n",
    "for tws in list(np.unique(PGarray[:,2])):\n",
    "    PGarray_tws = PGarray[np.where(PGarray==tws)[0],0:2]\n",
    "    if len(list(np.unique(PGarray_tws[:,0]))) < len(list(PGarray_tws[:,0])):\n",
    "        percentile_1 = []\n",
    "        percentile_2 = []\n",
    "        percentile_3 = []\n",
    "        percentile_4 = []\n",
    "        percentile_5 = []\n",
    "        bins_line = []\n",
    "        bins_point = []\n",
    "        points = []\n",
    "        bins = np.unique(PGarray_tws[:,0])\n",
    "        for bin in bins:\n",
    "            sample = PGarray[np.where(PGarray_tws[:,0]==bin),1:2][0]\n",
    "            if len(sample) > 1:\n",
    "                bins_line.append(bin)\n",
    "                score = np.percentile(sample,[50,75,90,95,99])\n",
    "                percentile_1.append(score[0])\n",
    "                percentile_2.append(score[1])\n",
    "                percentile_3.append(score[2])\n",
    "                percentile_4.append(score[3])\n",
    "                percentile_5.append(score[4])\n",
    "            else:\n",
    "                bins_point.append(bin)\n",
    "                points.append(sample[0])\n",
    "\n",
    "        plt.plot(bins_point,points,'bo', alpha=0.5)\n",
    "        plt.fill_between(\n",
    "            bins_line,\n",
    "            percentile_5,\n",
    "            percentile_4,\n",
    "            color='blue',\n",
    "            alpha=0.6)\n",
    "        plt.fill_between(\n",
    "            bins_line,\n",
    "            percentile_4,\n",
    "            percentile_3,\n",
    "            color='green',\n",
    "            alpha=0.75)\n",
    "        plt.fill_between(\n",
    "            bins_line,\n",
    "            percentile_3,\n",
    "            percentile_2,\n",
    "            color='orange',\n",
    "            alpha=0.5)\n",
    "        plt.fill_between(\n",
    "            bins_line,\n",
    "            percentile_2,\n",
    "            percentile_1,\n",
    "            color='red',\n",
    "            alpha=0.3)\n",
    "        plt.xlim([min(bins_line),max(bins_line)])\n",
    "        plt.title(str(PGVar)+' Percentile Graph @ TWS = '+str(tws))\n",
    "        plt.savefig(str(tws)+\"_\"+str(PGVar)+\"PercentileGraph.png\") # save plot\n",
    "        plt.clf() # close plot figure so it is not over plotted"
   ]
  },
  {
   "cell_type": "code",
   "execution_count": 176,
   "id": "f9c6cc7b",
   "metadata": {
    "pycharm": {
     "name": "#%%\n"
    }
   },
   "outputs": [
    {
     "data": {
      "text/plain": [
       "<Figure size 1440x144 with 0 Axes>"
      ]
     },
     "metadata": {},
     "output_type": "display_data"
    },
    {
     "data": {
      "text/plain": [
       "<Figure size 1440x144 with 0 Axes>"
      ]
     },
     "metadata": {},
     "output_type": "display_data"
    },
    {
     "data": {
      "text/plain": [
       "<Figure size 1440x144 with 0 Axes>"
      ]
     },
     "metadata": {},
     "output_type": "display_data"
    },
    {
     "data": {
      "text/plain": [
       "<Figure size 1440x144 with 0 Axes>"
      ]
     },
     "metadata": {},
     "output_type": "display_data"
    }
   ],
   "source": [
    "#create time series graphs\n",
    "time_seriesVars = ['BSP', 'TWA','TWS','TWD'] # variables to create time series of\n",
    "for var in time_seriesVars: # loop over variables\n",
    "    plt.figure(figsize=(20,2)) # make elongated figure\n",
    "    timeSeries = sns.lineplot(data=log_in, x=timeHeader, y=var, lw=0.5) # create time series plot\n",
    "    timeSeries.set_title(var+' Vs time') # add title\n",
    "    sns.despine() # remove outline box\n",
    "    plt.savefig(var+'_timeSeries.png') # save as .png\n",
    "    plt.clf() # close plot figure so it is not over plotted"
   ]
  },
  {
   "cell_type": "code",
   "execution_count": 179,
   "id": "912d47ea",
   "metadata": {
    "pycharm": {
     "name": "#%%\n"
    }
   },
   "outputs": [
    {
     "data": {
      "text/plain": [
       "<Figure size 432x288 with 0 Axes>"
      ]
     },
     "metadata": {},
     "output_type": "display_data"
    }
   ],
   "source": [
    "#create frequency distribution plots of relevant continous variables\n",
    "densityVars = ['BSPpol%', 'VMG%' ] # select variables to plot\n",
    "for var in densityVars: # loop over each variable in list of variables\n",
    "    overallDensity = sns.histplot(data=phases_in, x=var, kde=True) # create seaborn plot\n",
    "    overallDensity.set_title(var+' Freqency Count') # add title\n",
    "    sns.despine() # remove outline box\n",
    "    plt.savefig(var+'_Freqency Count') # save as .png\n",
    "    plt.clf() # close plot figure so it is not over plotted\n"
   ]
  },
  {
   "cell_type": "code",
   "execution_count": 39,
   "id": "57f851ba",
   "metadata": {
    "pycharm": {
     "name": "#%%\n"
    }
   },
   "outputs": [
    {
     "data": {
      "text/plain": [
       "<Figure size 432x288 with 0 Axes>"
      ]
     },
     "metadata": {},
     "output_type": "display_data"
    }
   ],
   "source": [
    "#create class count bar plots for categorical variables\n",
    "countVars = ['Sails', 'TwaBin', 'TwsBin', 'Tack'] # Select relevant variables\n",
    "\n",
    "for var in countVars: # loop over var in variables\n",
    "    overallCount = sns.countplot(y=var, data=phases_in, color=\"c\") # create seaborne plot\n",
    "    overallCount.set_title(var+' Category Count') # set title\n",
    "    sns.despine() # remove outline box\n",
    "    plt.savefig(str(var)+'_CategoryCount') # save plot\n",
    "    plt.clf() # close plot figure so it is not over plotted\n"
   ]
  },
  {
   "cell_type": "code",
   "execution_count": 184,
   "id": "15e882de",
   "metadata": {
    "pycharm": {
     "name": "#%%\n"
    }
   },
   "outputs": [
    {
     "data": {
      "text/plain": [
       "<Figure size 432x288 with 0 Axes>"
      ]
     },
     "metadata": {},
     "output_type": "display_data"
    }
   ],
   "source": [
    "# create hist plot of TWS and TWA\n",
    "TwaTws_hist = sns.histplot(x=log_in.TWA.abs(), y=log_in.TWS.abs())\n",
    "TwaTws_hist.set_title('Frequency of TWA vs TWS')\n",
    "sns.despine\n",
    "plt.savefig(\"TwsTwa_hist.png\")\n",
    "plt.clf()\n",
    "## Add legend to this plot."
   ]
  },
  {
   "cell_type": "code",
   "execution_count": 17,
   "id": "38e72e23",
   "metadata": {
    "pycharm": {
     "name": "#%%\n"
    }
   },
   "outputs": [
    {
     "ename": "ValueError",
     "evalue": "invalid literal for int() with base 10: ''",
     "output_type": "error",
     "traceback": [
      "\u001B[0;31m---------------------------------------------------------------------------\u001B[0m",
      "\u001B[0;31mValueError\u001B[0m                                Traceback (most recent call last)",
      "Input \u001B[0;32mIn [17]\u001B[0m, in \u001B[0;36m<cell line: 5>\u001B[0;34m()\u001B[0m\n\u001B[1;32m      3\u001B[0m performanceMetric \u001B[38;5;241m=\u001B[39m \u001B[38;5;28minput\u001B[39m(\u001B[38;5;124m\"\u001B[39m\u001B[38;5;124mPlease enter the desired performance metric\u001B[39m\u001B[38;5;124m\"\u001B[39m)\n\u001B[1;32m      4\u001B[0m sailingMode \u001B[38;5;241m=\u001B[39m \u001B[38;5;28minput\u001B[39m(\u001B[38;5;124m\"\u001B[39m\u001B[38;5;124mPlease enter the sailing mode to analyse\u001B[39m\u001B[38;5;130;01m\\n\u001B[39;00m\u001B[38;5;124m\"\u001B[39m\u001B[38;5;241m+\u001B[39m\u001B[38;5;28mstr\u001B[39m(phases_in[\u001B[38;5;124m'\u001B[39m\u001B[38;5;124mMode\u001B[39m\u001B[38;5;124m'\u001B[39m]\u001B[38;5;241m.\u001B[39mcat\u001B[38;5;241m.\u001B[39mcategories))\n\u001B[0;32m----> 5\u001B[0m binWidth_tws \u001B[38;5;241m=\u001B[39m \u001B[38;5;28;43mint\u001B[39;49m\u001B[43m(\u001B[49m\u001B[38;5;28;43minput\u001B[39;49m\u001B[43m(\u001B[49m\u001B[38;5;124;43m\"\u001B[39;49m\u001B[38;5;124;43mPlease enter the TWS bin width\u001B[39;49m\u001B[38;5;124;43m\"\u001B[39;49m\u001B[43m)\u001B[49m\u001B[43m)\u001B[49m\n\u001B[1;32m      6\u001B[0m pTest_df \u001B[38;5;241m=\u001B[39m phases_in[[targetVariable, \u001B[38;5;124m'\u001B[39m\u001B[38;5;124mTWS\u001B[39m\u001B[38;5;124m'\u001B[39m, \u001B[38;5;124m'\u001B[39m\u001B[38;5;124mTWA\u001B[39m\u001B[38;5;124m'\u001B[39m, performanceMetric, \u001B[38;5;124m'\u001B[39m\u001B[38;5;124mMode\u001B[39m\u001B[38;5;124m'\u001B[39m]]\n\u001B[1;32m      7\u001B[0m pTest_df \u001B[38;5;241m=\u001B[39m pTest_df[pTest_df[\u001B[38;5;124m'\u001B[39m\u001B[38;5;124mMode\u001B[39m\u001B[38;5;124m'\u001B[39m]\u001B[38;5;241m==\u001B[39msailingMode]\n",
      "\u001B[0;31mValueError\u001B[0m: invalid literal for int() with base 10: ''"
     ]
    }
   ],
   "source": [
    "## P Test Phase comparison\n",
    "targetVariable = input(\"Phase analysis contains the following categorical variables \\n\"+str(phases_in.select_dtypes(include=['category']).columns.tolist())+\"\\n Please enter the target variable\")\n",
    "performanceMetric = input(\"Please enter the desired performance metric\")\n",
    "sailingMode = input(\"Please enter the sailing mode to analyse\\n\"+str(phases_in['Mode'].cat.categories))\n",
    "binWidth_tws = int(input(\"Please enter the TWS bin width\"))\n",
    "pTest_df = phases_in[[targetVariable, 'TWS', 'TWA', performanceMetric, 'Mode']]\n",
    "pTest_df = pTest_df[pTest_df['Mode']==sailingMode]\n",
    "\n",
    "newLabels = {}\n",
    "for label in pTest_df[targetVariable].cat.categories.tolist():\n",
    "    newLab = input(\"Please enter simple Category label for \\n\"+str(label)+\"\\nEntered new labels are \\n\"+str(np.unique(newLabels.values()))+\"\\n Enter NA to drop category\")\n",
    "    newLabels.update({label:newLab})\n",
    "pTest_df[targetVariable] = pTest_df[targetVariable].map(newLabels).astype('category')\n",
    "pTest_df = pTest_df[pTest_df[targetVariable]!='NA']\n",
    "\n",
    "tws_cuts = list(range(math.floor(pTest_df['TWS'].min()), math.ceil(pTest_df['TWS'].max()), int(binWidth_tws)))\n",
    "if binWidth_tws == 1:\n",
    "    tws_labels = list(range(math.floor(pTest_df['TWS'].min()), math.ceil(pTest_df['TWS'].max()-1), binWidth_tws))\n",
    "else:\n",
    "    tws_labels = list(range(math.floor(pTest_df['TWS'].min())+1, math.ceil(pTest_df['TWS'].max()-1), binWidth_tws))\n",
    "pTest_df['TwsBin'] = pd.cut(pTest_df['TWS'], bins=tws_cuts, labels=tws_labels)\n",
    "bin_count = pTest_df.groupby(['TwsBin']).size()\n",
    "twsBins_kept = []\n",
    "for i in range(len(bin_count)):\n",
    "    if bin_count.values[i] < 10:\n",
    "        pTest_df = pTest_df[pTest_df['TwsBin']!= bin_count.index.categories[i]]\n",
    "    elif any(np.asarray(pTest_df[pTest_df['TwsBin']==bin_count.index.categories[i]].groupby(targetVariable).size().tolist())==sum(pTest_df[pTest_df['TwsBin']==bin_count.index.categories[i]].groupby(targetVariable).size().tolist())):\n",
    "        pTest_df = pTest_df[pTest_df['TwsBin']!= bin_count.index.categories[i]]\n",
    "    else:\n",
    "        twsBins_kept.append(bin_count.index.categories[i])\n",
    "pTest_df = pTest_df.dropna()\n",
    "toDrop = {}\n",
    "for tws in twsBins_kept:\n",
    "    sail = []\n",
    "    sail = input(\"Bin count for sail in \"+str(tws)+\"\\n\"+\n",
    "          str(pTest_df[pTest_df['TwsBin']==tws].groupby(targetVariable).size())+\"\\n\"+\n",
    "          \"Enter sail to drop, seperated by ;\")\n",
    "    sail = sail.split(';')\n",
    "    if len(sail) > 0:\n",
    "        toDrop.update({tws:sail})\n",
    "\n",
    "for tws in twsBins_kept:\n",
    "    testFrame = pTest_df[pTest_df['TwsBin']==tws]\n",
    "    testFrame = testFrame[[targetVariable,performanceMetric]].dropna()\n",
    "    testCategories = np.unique(testFrame[targetVariable].tolist())\n",
    "    drop = np.asarray(toDrop[tws])\n",
    "    testCategories = list(set(testCategories)-set(drop))\n",
    "    testFrame = testFrame[testFrame[targetVariable].isin(testCategories)]\n",
    "    testPlot = sns.displot(testFrame, x=performanceMetric, hue=targetVariable, kind='kde')\n",
    "    testPlot.set(title ='TWS='+str(tws))\n",
    "    sns.despine\n",
    "    plt.savefig(str(tws))\n",
    "    plt.clf()\n"
   ]
  },
  {
   "cell_type": "code",
   "execution_count": 70,
   "id": "87e3ada0",
   "metadata": {
    "pycharm": {
     "name": "#%%\n"
    }
   },
   "outputs": [],
   "source": [
    "## Nav polar finder\n",
    "sailingMode = input(\"Please enter the sailing mode to analyse\\n\"+str(phases_in['Mode'].cat.categories))\n",
    "polarFinder_df = phases_in[phases_in['Mode']==sailingMode][['TWS','TWA','BSP']]"
   ]
  },
  {
   "cell_type": "code",
   "execution_count": 71,
   "id": "e1a9bcbf",
   "metadata": {
    "pycharm": {
     "name": "#%%\n"
    }
   },
   "outputs": [],
   "source": [
    "polarFinder_df['TwsBin'] = pd.cut(polarFinder_df['TWS'], bins=list(np.arange(0.5,34.5,1)), labels=list(range(1,34,1)))"
   ]
  },
  {
   "cell_type": "code",
   "execution_count": 72,
   "id": "0b5fad9d",
   "metadata": {
    "pycharm": {
     "name": "#%%\n"
    }
   },
   "outputs": [],
   "source": [
    "bin_count = polarFinder_df.groupby('TwsBin').size()\n"
   ]
  },
  {
   "cell_type": "code",
   "execution_count": 73,
   "id": "b88e84e2",
   "metadata": {
    "pycharm": {
     "name": "#%%\n"
    }
   },
   "outputs": [],
   "source": [
    "twsBins_kept = []\n",
    "for i in range(len(bin_count.values)):\n",
    "    if bin_count.values[i] > 10:\n",
    "        twsBins_kept.append(bin_count.index.categories[i])\n"
   ]
  },
  {
   "cell_type": "code",
   "execution_count": 74,
   "id": "7011e648",
   "metadata": {
    "pycharm": {
     "name": "#%%\n"
    }
   },
   "outputs": [],
   "source": [
    "percentile_25 = []\n",
    "percentile_50 = []\n",
    "percentile_75 = []\n",
    "for tws in twsBins_kept:\n",
    "    scores= np.percentile(polarFinder_df[polarFinder_df['TwsBin']==tws]['TWA'],[25,50,75])\n",
    "    percentile_25.append(scores[0])\n",
    "    percentile_50.append(scores[1])\n",
    "    percentile_75.append(scores[2])"
   ]
  },
  {
   "cell_type": "code",
   "execution_count": 75,
   "id": "1ce69b80",
   "metadata": {
    "pycharm": {
     "name": "#%%\n"
    }
   },
   "outputs": [
    {
     "data": {
      "text/plain": [
       "<Figure size 432x288 with 0 Axes>"
      ]
     },
     "metadata": {},
     "output_type": "display_data"
    }
   ],
   "source": [
    "plt.plot(twsBins_kept,percentile_25)\n",
    "plt.plot(twsBins_kept,percentile_50)\n",
    "plt.plot(twsBins_kept,percentile_75)\n",
    "plt.xticks(range(4,22,1))\n",
    "plt.savefig('downNav')\n",
    "plt.clf()"
   ]
  },
  {
   "cell_type": "code",
   "execution_count": 24,
   "id": "b664fe74",
   "metadata": {
    "pycharm": {
     "name": "#%%\n"
    }
   },
   "outputs": [
    {
     "data": {
      "text/plain": [
       "[4, 5, 6, 7, 8, 9, 10, 11, 12, 13, 14, 15, 16, 17, 18, 19, 20, 21]"
      ]
     },
     "execution_count": 24,
     "metadata": {},
     "output_type": "execute_result"
    }
   ],
   "source": [
    "twsBins_kept"
   ]
  },
  {
   "cell_type": "code",
   "execution_count": 19,
   "id": "ffa332a1",
   "metadata": {
    "pycharm": {
     "name": "#%%\n"
    }
   },
   "outputs": [],
   "source": [
    "# detail variables to keep for ballast analysis\n",
    "ballast_variables = ['Sails','TwsBin','TwaBin','WaterBallast', 'BSPpol%', 'VMG%', 'HEEL_TRG', 'HEEL_DELTA', 'HEEL']\n",
    "# create new DF to show class balance and count for water ballast\n",
    "ballast_bal = phases_in[ballast_variables] \n",
    "# group phases by TWS/TWA and count 'WaterBallast' class freqnecies\n",
    "ballast_bal = phases_in.groupby(['TwsBin','TwaBin'], as_index=False).WaterBallast.value_counts(normalize=True) \n",
    "# drop NA's and reset index\n",
    "ballast_bal = ballast_bal.loc[ballast_bal['WaterBallast'] == 'Empty'].dropna().reset_index() \n",
    "# rescale so as 0 and 1 are the same\n",
    "ballast_bal['Imbalance'] = abs(0.5 - ballast_bal['proportion']) \n",
    "# count the number of entries in each bin\n",
    "ballast_bal['count'] = phases_in.groupby(['TwsBin','TwaBin'], as_index=False).WaterBallast.count().WaterBallast "
   ]
  },
  {
   "cell_type": "code",
   "execution_count": 20,
   "id": "46d33424",
   "metadata": {
    "pycharm": {
     "name": "#%%\n"
    }
   },
   "outputs": [
    {
     "data": {
      "text/plain": [
       "<AxesSubplot:xlabel='TwaBin', ylabel='TwsBin'>"
      ]
     },
     "execution_count": 20,
     "metadata": {},
     "output_type": "execute_result"
    },
    {
     "data": {
      "image/png": "[encoded data removed]",
      "text/plain": [
       "<Figure size 432x288 with 1 Axes>"
      ]
     },
     "metadata": {},
     "output_type": "display_data"
    }
   ],
   "source": [
    "sns.scatterplot(x='TwaBin', y='TwsBin', hue='Imbalance', size='count', data=ballast_bal)"
   ]
  },
  {
   "cell_type": "code",
   "execution_count": 21,
   "id": "0991a454",
   "metadata": {
    "pycharm": {
     "name": "#%%\n"
    }
   },
   "outputs": [],
   "source": [
    "ballast_test_TwsBin = ballast_bal.loc[((ballast_bal['Imbalance'] < 0.2) & (ballast_bal['count'] > 10))].TwsBin.reset_index()\n",
    "ballast_test_TwsBin = list(ballast_test_TwsBin['TwsBin'])\n",
    "ballast_test_TwaBin = ballast_bal.loc[((ballast_bal['Imbalance'] < 0.2) & (ballast_bal['count'] > 10))].TwaBin.reset_index()\n",
    "ballast_test_TwaBin = list(ballast_test_TwaBin['TwaBin'])\n"
   ]
  },
  {
   "cell_type": "code",
   "execution_count": 22,
   "id": "0b3e8fba",
   "metadata": {
    "pycharm": {
     "name": "#%%\n"
    }
   },
   "outputs": [
    {
     "name": "stdout",
     "output_type": "stream",
     "text": [
      "range(0, 0)\n",
      "[40, 45, 50, 40, 45, 50, 55, 45, 50, 50, 36]\n",
      "[9, 9, 9, 10, 10, 10, 10, 12, 12, 14, 16]\n"
     ]
    }
   ],
   "source": [
    "print(range(0,))\n",
    "print(ballast_test_TwaBin)\n",
    "print(ballast_test_TwsBin)\n"
   ]
  },
  {
   "cell_type": "code",
   "execution_count": 23,
   "id": "35398d30",
   "metadata": {
    "pycharm": {
     "name": "#%%\n"
    }
   },
   "outputs": [
    {
     "ename": "IndexError",
     "evalue": "list index out of range",
     "output_type": "error",
     "traceback": [
      "\u001B[0;31m---------------------------------------------------------------------------\u001B[0m",
      "\u001B[0;31mIndexError\u001B[0m                                Traceback (most recent call last)",
      "Input \u001B[0;32mIn [23]\u001B[0m, in \u001B[0;36m<cell line: 3>\u001B[0;34m()\u001B[0m\n\u001B[1;32m      1\u001B[0m \u001B[38;5;66;03m#for i in range(len(ballast_test_TwsBin)):\u001B[39;00m\n\u001B[1;32m      2\u001B[0m twa \u001B[38;5;241m=\u001B[39m ballast_test_TwaBin[\u001B[38;5;241m2\u001B[39m]\n\u001B[0;32m----> 3\u001B[0m tws \u001B[38;5;241m=\u001B[39m \u001B[43mballast_test_TwsBin\u001B[49m\u001B[43m[\u001B[49m\u001B[38;5;241;43m14\u001B[39;49m\u001B[43m]\u001B[49m\n\u001B[1;32m      4\u001B[0m ballast_test \u001B[38;5;241m=\u001B[39m phases_in[((phases_in\u001B[38;5;241m.\u001B[39mTwaBin \u001B[38;5;241m==\u001B[39m twa) \u001B[38;5;241m&\u001B[39m (phases_in\u001B[38;5;241m.\u001B[39mTwsBin \u001B[38;5;241m==\u001B[39m tws))]\n",
      "\u001B[0;31mIndexError\u001B[0m: list index out of range"
     ]
    }
   ],
   "source": [
    "#for i in range(len(ballast_test_TwsBin)):\n",
    "twa = ballast_test_TwaBin[2]\n",
    "tws = ballast_test_TwsBin[14]\n",
    "ballast_test = phases_in[((phases_in.TwaBin == twa) & (phases_in.TwsBin == tws))]\n"
   ]
  },
  {
   "cell_type": "code",
   "execution_count": 24,
   "id": "1fa63476",
   "metadata": {
    "pycharm": {
     "name": "#%%\n"
    }
   },
   "outputs": [
    {
     "ename": "NameError",
     "evalue": "name 'ballast_test' is not defined",
     "output_type": "error",
     "traceback": [
      "\u001B[0;31m---------------------------------------------------------------------------\u001B[0m",
      "\u001B[0;31mNameError\u001B[0m                                 Traceback (most recent call last)",
      "Input \u001B[0;32mIn [24]\u001B[0m, in \u001B[0;36m<cell line: 1>\u001B[0;34m()\u001B[0m\n\u001B[0;32m----> 1\u001B[0m ballast_test \u001B[38;5;241m=\u001B[39m \u001B[43mballast_test\u001B[49m[ballast_variables]\n\u001B[1;32m      2\u001B[0m full_BSPpol \u001B[38;5;241m=\u001B[39m ballast_test[ballast_test\u001B[38;5;241m.\u001B[39mWaterBallast \u001B[38;5;241m==\u001B[39m \u001B[38;5;124m'\u001B[39m\u001B[38;5;124mFull\u001B[39m\u001B[38;5;124m'\u001B[39m]\n\u001B[1;32m      3\u001B[0m empty_BSPpol \u001B[38;5;241m=\u001B[39m ballast_test[ballast_test\u001B[38;5;241m.\u001B[39mWaterBallast \u001B[38;5;241m==\u001B[39m \u001B[38;5;124m'\u001B[39m\u001B[38;5;124mEmpty\u001B[39m\u001B[38;5;124m'\u001B[39m]\n",
      "\u001B[0;31mNameError\u001B[0m: name 'ballast_test' is not defined"
     ]
    }
   ],
   "source": [
    "ballast_test = ballast_test[ballast_variables]\n",
    "full_BSPpol = ballast_test[ballast_test.WaterBallast == 'Full']\n",
    "empty_BSPpol = ballast_test[ballast_test.WaterBallast == 'Empty']\n",
    "print(len(full_BSPpol))\n",
    "print(len(empty_BSPpol))\n",
    "tTest = stats.ttest_ind(full_BSPpol['VMG%'], empty_BSPpol['VMG%'])\n",
    "test_plot = sns.displot(ballast_test, x='VMG%', hue='WaterBallast', kind='kde', palette = ['red','blue'] )\n",
    "avg = ballast_test.groupby(['WaterBallast']).mean()['VMG%']\n",
    "plt.axvline(x=avg[0], color = 'red')\n",
    "plt.axvline(x=avg[1], color = 'blue')\n",
    "test_plot.set(title = 'TWA='+str(twa)+' TWS='+str(tws)+ ', p-value='+str(tTest[1])) # set title\n",
    "sns.despine\n",
    "\n",
    "plt.savefig(str(i))\n",
    "plt.clf()"
   ]
  },
  {
   "cell_type": "code",
   "execution_count": 25,
   "id": "30b8c8e9",
   "metadata": {
    "pycharm": {
     "name": "#%%\n"
    }
   },
   "outputs": [
    {
     "ename": "NameError",
     "evalue": "name 'ballast_test' is not defined",
     "output_type": "error",
     "traceback": [
      "\u001B[0;31m---------------------------------------------------------------------------\u001B[0m",
      "\u001B[0;31mNameError\u001B[0m                                 Traceback (most recent call last)",
      "Input \u001B[0;32mIn [25]\u001B[0m, in \u001B[0;36m<cell line: 1>\u001B[0;34m()\u001B[0m\n\u001B[0;32m----> 1\u001B[0m \u001B[43mballast_test\u001B[49m\n",
      "\u001B[0;31mNameError\u001B[0m: name 'ballast_test' is not defined"
     ]
    }
   ],
   "source": [
    "ballast_test\n"
   ]
  },
  {
   "cell_type": "code",
   "execution_count": 91,
   "id": "8541b1ec",
   "metadata": {
    "pycharm": {
     "name": "#%%\n"
    }
   },
   "outputs": [],
   "source": [
    "twa = 130\n",
    "tws = 6\n",
    "ballast_test = phases_in[((phases_in.TwaBin == twa) & (phases_in.TwsBin == tws))]\n",
    "ballast_test = ballast_test[ballast_variables]"
   ]
  },
  {
   "cell_type": "code",
   "execution_count": 92,
   "id": "8d4a409b",
   "metadata": {
    "pycharm": {
     "name": "#%%\n"
    }
   },
   "outputs": [
    {
     "ename": "NameError",
     "evalue": "name 'test' is not defined",
     "output_type": "error",
     "traceback": [
      "\u001B[0;31m---------------------------------------------------------------------------\u001B[0m",
      "\u001B[0;31mNameError\u001B[0m                                 Traceback (most recent call last)",
      "\u001B[0;32m/tmp/ipykernel_5502/2074824509.py\u001B[0m in \u001B[0;36m<module>\u001B[0;34m\u001B[0m\n\u001B[0;32m----> 1\u001B[0;31m \u001B[0mtest\u001B[0m\u001B[0;34m\u001B[0m\u001B[0;34m\u001B[0m\u001B[0m\n\u001B[0m",
      "\u001B[0;31mNameError\u001B[0m: name 'test' is not defined"
     ]
    }
   ],
   "source": [
    "test"
   ]
  },
  {
   "cell_type": "code",
   "execution_count": 86,
   "id": "6b51b86d",
   "metadata": {
    "pycharm": {
     "name": "#%%\n"
    }
   },
   "outputs": [],
   "source": [
    "\n"
   ]
  },
  {
   "cell_type": "code",
   "execution_count": 25,
   "id": "f5e5ca66",
   "metadata": {
    "pycharm": {
     "name": "#%%\n"
    }
   },
   "outputs": [
    {
     "name": "stderr",
     "output_type": "stream",
     "text": [
      "/var/folders/1y/_719kcl11vggrmnzn4bbqdzw0000gn/T/ipykernel_4938/1982660045.py:2: FutureWarning: Dropping invalid columns in DataFrameGroupBy.mean is deprecated. In a future version, a TypeError will be raised. Before calling .mean, select only columns which should be valid for the function.\n",
      "  avg = ballast_test.groupby(['WaterBallast']).mean()['BSPpol%']\n"
     ]
    },
    {
     "data": {
      "text/plain": [
       "<seaborn.axisgrid.FacetGrid at 0x7f9697fafdf0>"
      ]
     },
     "execution_count": 25,
     "metadata": {},
     "output_type": "execute_result"
    },
    {
     "data": {
      "image/png": "[encoded data removed]",
      "text/plain": [
       "<Figure size 2224.88x360 with 6 Axes>"
      ]
     },
     "metadata": {},
     "output_type": "display_data"
    }
   ],
   "source": [
    "test_plot = sns.displot(ballast_test, x='BSPpol%', hue='WaterBallast', kind='kde', palette = ['red','blue'], col='Sails' )\n",
    "avg = ballast_test.groupby(['WaterBallast']).mean()['BSPpol%']\n",
    "plt.axvline(x=avg[0], color = 'red')\n",
    "plt.axvline(x=avg[1], color = 'blue')\n",
    "test_plot.set(title = 'TWA='+str(twa)+' TWS='+str(tws)+ ', p-value='+str(tTest[1])) # set title"
   ]
  },
  {
   "cell_type": "code",
   "execution_count": 198,
   "id": "d7aed4aa",
   "metadata": {
    "pycharm": {
     "name": "#%%\n"
    }
   },
   "outputs": [
    {
     "data": {
      "text/plain": [
       "92.02083333333333"
      ]
     },
     "execution_count": 198,
     "metadata": {},
     "output_type": "execute_result"
    }
   ],
   "source": [
    "ballast_test.groupby(['WaterBallast']).mean()['BSPpol%'][1]"
   ]
  },
  {
   "cell_type": "code",
   "execution_count": 197,
   "id": "6a9adcac",
   "metadata": {
    "pycharm": {
     "name": "#%%\n"
    }
   },
   "outputs": [
    {
     "data": {
      "text/plain": [
       "CategoricalIndex(['Empty', 'Full'], categories=['Empty', 'Full'], ordered=False, dtype='category', name='WaterBallast')"
      ]
     },
     "execution_count": 197,
     "metadata": {},
     "output_type": "execute_result"
    }
   ],
   "source": [
    "ballast_test.groupby(['WaterBallast']).mean().index"
   ]
  }
 ],
 "metadata": {
  "kernelspec": {
   "display_name": "Python 3 (ipykernel)",
   "language": "python",
   "name": "python3"
  },
  "language_info": {
   "codemirror_mode": {
    "name": "ipython",
    "version": 3
   },
   "file_extension": ".py",
   "mimetype": "text/x-python",
   "name": "python",
   "nbconvert_exporter": "python",
   "pygments_lexer": "ipython3",
   "version": "3.10.4"
  }
 },
 "nbformat": 4,
 "nbformat_minor": 5
}
